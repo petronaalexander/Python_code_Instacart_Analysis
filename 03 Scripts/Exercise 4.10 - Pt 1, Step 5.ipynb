{
 "cells": [
  {
   "cell_type": "markdown",
   "id": "2e192d02",
   "metadata": {},
   "source": [
    "# 4.10 Coding Etiquette & Excel Reporting - Pt 1, Step 5"
   ]
  },
  {
   "cell_type": "markdown",
   "id": "96c35af9",
   "metadata": {},
   "source": [
    "## This script contains the following points:\n",
    "\n",
    "### 1. Import data and libraries\n",
    "### 2. Create sample set of dataframe\n",
    "### 3. Assign departments to department id\n",
    "### 4. Create age groups\n",
    "### 5. Create income groups\n",
    "### 6. Create parent groups\n",
    "### 7. Create customer profiles\n",
    "### 8. Assign hourly groups\n",
    "### 9. Assign days\n",
    "### 10. Export sample set of dataframe"
   ]
  },
  {
   "cell_type": "markdown",
   "id": "bc876e3f",
   "metadata": {},
   "source": [
    "## 1. Import data and libraries"
   ]
  },
  {
   "cell_type": "code",
   "execution_count": 1,
   "id": "f2917ca1",
   "metadata": {},
   "outputs": [],
   "source": [
    "# Import libraries\n",
    "\n",
    "import pandas as pd\n",
    "import numpy as np\n",
    "import os\n",
    "import matplotlib.pyplot as plt\n",
    "import seaborn as sns\n",
    "import scipy"
   ]
  },
  {
   "cell_type": "code",
   "execution_count": 2,
   "id": "8c7f6701",
   "metadata": {},
   "outputs": [],
   "source": [
    "# Assign project folder path to a variable\n",
    "\n",
    "path = r'C:\\Users\\jomok\\Documents\\Career Foundry\\Achievement 4\\07-2023 Instacart Basket Analysis'"
   ]
  },
  {
   "cell_type": "code",
   "execution_count": 3,
   "id": "633d16b3",
   "metadata": {},
   "outputs": [],
   "source": [
    "# Import data\n",
    "\n",
    "df_final = pd.read_pickle(os.path.join(path, '02 Data', 'Prepared Data', 'orders_products_customers_merged.pkl'))"
   ]
  },
  {
   "cell_type": "code",
   "execution_count": 4,
   "id": "4a9b9afd",
   "metadata": {},
   "outputs": [
    {
     "data": {
      "text/html": [
       "<div>\n",
       "<style scoped>\n",
       "    .dataframe tbody tr th:only-of-type {\n",
       "        vertical-align: middle;\n",
       "    }\n",
       "\n",
       "    .dataframe tbody tr th {\n",
       "        vertical-align: top;\n",
       "    }\n",
       "\n",
       "    .dataframe thead th {\n",
       "        text-align: right;\n",
       "    }\n",
       "</style>\n",
       "<table border=\"1\" class=\"dataframe\">\n",
       "  <thead>\n",
       "    <tr style=\"text-align: right;\">\n",
       "      <th></th>\n",
       "      <th>user_id</th>\n",
       "      <th>gender</th>\n",
       "      <th>state</th>\n",
       "      <th>age</th>\n",
       "      <th>date_joined</th>\n",
       "      <th>number_of_dependents</th>\n",
       "      <th>marital_status</th>\n",
       "      <th>income</th>\n",
       "      <th>order_id</th>\n",
       "      <th>eval_set</th>\n",
       "      <th>...</th>\n",
       "      <th>busiest_period_of_day</th>\n",
       "      <th>max_order</th>\n",
       "      <th>loyalty_flag</th>\n",
       "      <th>avg_price</th>\n",
       "      <th>spending_flag</th>\n",
       "      <th>median_days_since_prior_order</th>\n",
       "      <th>order_frequency_flag</th>\n",
       "      <th>_merge</th>\n",
       "      <th>region</th>\n",
       "      <th>activity_flag</th>\n",
       "    </tr>\n",
       "  </thead>\n",
       "  <tbody>\n",
       "    <tr>\n",
       "      <th>0</th>\n",
       "      <td>26711</td>\n",
       "      <td>Female</td>\n",
       "      <td>Missouri</td>\n",
       "      <td>48</td>\n",
       "      <td>1/1/2017</td>\n",
       "      <td>3</td>\n",
       "      <td>married</td>\n",
       "      <td>165665</td>\n",
       "      <td>2543867</td>\n",
       "      <td>prior</td>\n",
       "      <td>...</td>\n",
       "      <td>Most orders</td>\n",
       "      <td>8</td>\n",
       "      <td>New customer</td>\n",
       "      <td>7.988889</td>\n",
       "      <td>Low spender</td>\n",
       "      <td>19.0</td>\n",
       "      <td>Regular customer</td>\n",
       "      <td>both</td>\n",
       "      <td>Midwest</td>\n",
       "      <td>high activity customer</td>\n",
       "    </tr>\n",
       "    <tr>\n",
       "      <th>1</th>\n",
       "      <td>26711</td>\n",
       "      <td>Female</td>\n",
       "      <td>Missouri</td>\n",
       "      <td>48</td>\n",
       "      <td>1/1/2017</td>\n",
       "      <td>3</td>\n",
       "      <td>married</td>\n",
       "      <td>165665</td>\n",
       "      <td>1285508</td>\n",
       "      <td>prior</td>\n",
       "      <td>...</td>\n",
       "      <td>Most orders</td>\n",
       "      <td>8</td>\n",
       "      <td>New customer</td>\n",
       "      <td>7.988889</td>\n",
       "      <td>Low spender</td>\n",
       "      <td>19.0</td>\n",
       "      <td>Regular customer</td>\n",
       "      <td>both</td>\n",
       "      <td>Midwest</td>\n",
       "      <td>high activity customer</td>\n",
       "    </tr>\n",
       "    <tr>\n",
       "      <th>2</th>\n",
       "      <td>26711</td>\n",
       "      <td>Female</td>\n",
       "      <td>Missouri</td>\n",
       "      <td>48</td>\n",
       "      <td>1/1/2017</td>\n",
       "      <td>3</td>\n",
       "      <td>married</td>\n",
       "      <td>165665</td>\n",
       "      <td>2578584</td>\n",
       "      <td>prior</td>\n",
       "      <td>...</td>\n",
       "      <td>Most orders</td>\n",
       "      <td>8</td>\n",
       "      <td>New customer</td>\n",
       "      <td>7.988889</td>\n",
       "      <td>Low spender</td>\n",
       "      <td>19.0</td>\n",
       "      <td>Regular customer</td>\n",
       "      <td>both</td>\n",
       "      <td>Midwest</td>\n",
       "      <td>high activity customer</td>\n",
       "    </tr>\n",
       "    <tr>\n",
       "      <th>3</th>\n",
       "      <td>26711</td>\n",
       "      <td>Female</td>\n",
       "      <td>Missouri</td>\n",
       "      <td>48</td>\n",
       "      <td>1/1/2017</td>\n",
       "      <td>3</td>\n",
       "      <td>married</td>\n",
       "      <td>165665</td>\n",
       "      <td>423547</td>\n",
       "      <td>prior</td>\n",
       "      <td>...</td>\n",
       "      <td>Most orders</td>\n",
       "      <td>8</td>\n",
       "      <td>New customer</td>\n",
       "      <td>7.988889</td>\n",
       "      <td>Low spender</td>\n",
       "      <td>19.0</td>\n",
       "      <td>Regular customer</td>\n",
       "      <td>both</td>\n",
       "      <td>Midwest</td>\n",
       "      <td>high activity customer</td>\n",
       "    </tr>\n",
       "    <tr>\n",
       "      <th>4</th>\n",
       "      <td>26711</td>\n",
       "      <td>Female</td>\n",
       "      <td>Missouri</td>\n",
       "      <td>48</td>\n",
       "      <td>1/1/2017</td>\n",
       "      <td>3</td>\n",
       "      <td>married</td>\n",
       "      <td>165665</td>\n",
       "      <td>2524893</td>\n",
       "      <td>prior</td>\n",
       "      <td>...</td>\n",
       "      <td>Most orders</td>\n",
       "      <td>8</td>\n",
       "      <td>New customer</td>\n",
       "      <td>7.988889</td>\n",
       "      <td>Low spender</td>\n",
       "      <td>19.0</td>\n",
       "      <td>Regular customer</td>\n",
       "      <td>both</td>\n",
       "      <td>Midwest</td>\n",
       "      <td>high activity customer</td>\n",
       "    </tr>\n",
       "  </tbody>\n",
       "</table>\n",
       "<p>5 rows × 33 columns</p>\n",
       "</div>"
      ],
      "text/plain": [
       "  user_id  gender     state  age date_joined  number_of_dependents  \\\n",
       "0   26711  Female  Missouri   48    1/1/2017                     3   \n",
       "1   26711  Female  Missouri   48    1/1/2017                     3   \n",
       "2   26711  Female  Missouri   48    1/1/2017                     3   \n",
       "3   26711  Female  Missouri   48    1/1/2017                     3   \n",
       "4   26711  Female  Missouri   48    1/1/2017                     3   \n",
       "\n",
       "  marital_status  income  order_id eval_set  ...  busiest_period_of_day  \\\n",
       "0        married  165665   2543867    prior  ...            Most orders   \n",
       "1        married  165665   1285508    prior  ...            Most orders   \n",
       "2        married  165665   2578584    prior  ...            Most orders   \n",
       "3        married  165665    423547    prior  ...            Most orders   \n",
       "4        married  165665   2524893    prior  ...            Most orders   \n",
       "\n",
       "   max_order  loyalty_flag  avg_price  spending_flag  \\\n",
       "0          8  New customer   7.988889    Low spender   \n",
       "1          8  New customer   7.988889    Low spender   \n",
       "2          8  New customer   7.988889    Low spender   \n",
       "3          8  New customer   7.988889    Low spender   \n",
       "4          8  New customer   7.988889    Low spender   \n",
       "\n",
       "   median_days_since_prior_order  order_frequency_flag _merge   region  \\\n",
       "0                           19.0      Regular customer   both  Midwest   \n",
       "1                           19.0      Regular customer   both  Midwest   \n",
       "2                           19.0      Regular customer   both  Midwest   \n",
       "3                           19.0      Regular customer   both  Midwest   \n",
       "4                           19.0      Regular customer   both  Midwest   \n",
       "\n",
       "            activity_flag  \n",
       "0  high activity customer  \n",
       "1  high activity customer  \n",
       "2  high activity customer  \n",
       "3  high activity customer  \n",
       "4  high activity customer  \n",
       "\n",
       "[5 rows x 33 columns]"
      ]
     },
     "execution_count": 4,
     "metadata": {},
     "output_type": "execute_result"
    }
   ],
   "source": [
    "# Check output\n",
    "\n",
    "df_final.head()"
   ]
  },
  {
   "cell_type": "code",
   "execution_count": 5,
   "id": "9c30b86a",
   "metadata": {},
   "outputs": [
    {
     "data": {
      "text/plain": [
       "(32404859, 33)"
      ]
     },
     "execution_count": 5,
     "metadata": {},
     "output_type": "execute_result"
    }
   ],
   "source": [
    "# Check shape\n",
    "\n",
    "df_final.shape"
   ]
  },
  {
   "cell_type": "markdown",
   "id": "8ba08348",
   "metadata": {},
   "source": [
    "## 2. Create sample set of dataframe"
   ]
  },
  {
   "cell_type": "code",
   "execution_count": 6,
   "id": "eecb5f22",
   "metadata": {},
   "outputs": [],
   "source": [
    "# Create a list holding True/False values to the test np.random.rant() <= 0.7\n",
    "\n",
    "dev = np.random.rand(len(df_final)) <= 0.7"
   ]
  },
  {
   "cell_type": "code",
   "execution_count": 7,
   "id": "fe24edf2",
   "metadata": {},
   "outputs": [],
   "source": [
    "# Store 70% of the sample in the dataframe big\n",
    "\n",
    "big = df_final[dev]"
   ]
  },
  {
   "cell_type": "code",
   "execution_count": 8,
   "id": "ed3b86e0",
   "metadata": {},
   "outputs": [],
   "source": [
    "# Store 30% of the sample in the dataframe small\n",
    "\n",
    "small = df_final[~dev]"
   ]
  },
  {
   "cell_type": "code",
   "execution_count": 9,
   "id": "e0ae88f2",
   "metadata": {},
   "outputs": [
    {
     "data": {
      "text/plain": [
       "32404859"
      ]
     },
     "execution_count": 9,
     "metadata": {},
     "output_type": "execute_result"
    }
   ],
   "source": [
    "# Add both samples together to check results\n",
    "\n",
    "len(df_final)"
   ]
  },
  {
   "cell_type": "code",
   "execution_count": 10,
   "id": "99db6c3e",
   "metadata": {},
   "outputs": [
    {
     "data": {
      "text/plain": [
       "32404859"
      ]
     },
     "execution_count": 10,
     "metadata": {},
     "output_type": "execute_result"
    }
   ],
   "source": [
    "len(big) + len(small)"
   ]
  },
  {
   "cell_type": "markdown",
   "id": "36cc6a28",
   "metadata": {},
   "source": [
    "Confirmed:  Number of rows in both samples added together is the same number of rows as the original dataframe."
   ]
  },
  {
   "cell_type": "code",
   "execution_count": 11,
   "id": "0578f42a",
   "metadata": {},
   "outputs": [
    {
     "data": {
      "text/plain": [
       "Index(['user_id', 'gender', 'state', 'age', 'date_joined',\n",
       "       'number_of_dependents', 'marital_status', 'income', 'order_id',\n",
       "       'eval_set', 'order_number', 'order_day_of_week', 'order_hour_of_day',\n",
       "       'days_since_prior_order', 'product_id', 'add_to_cart_order',\n",
       "       'reordered', 'product_name', 'aisle_id', 'department_id', 'prices',\n",
       "       'price_range_loc', 'busiest_day', 'busiest_period_of_day', 'max_order',\n",
       "       'loyalty_flag', 'avg_price', 'spending_flag',\n",
       "       'median_days_since_prior_order', 'order_frequency_flag', '_merge',\n",
       "       'region', 'activity_flag'],\n",
       "      dtype='object')"
      ]
     },
     "execution_count": 11,
     "metadata": {},
     "output_type": "execute_result"
    }
   ],
   "source": [
    "# Reduce samples to only columns relevant to the analysis\n",
    "\n",
    "df_final.columns"
   ]
  },
  {
   "cell_type": "code",
   "execution_count": 12,
   "id": "50903fc2",
   "metadata": {},
   "outputs": [],
   "source": [
    "# Reduce samples to subset of only columns relevant to analysis\n",
    "\n",
    "df_final_subset = small[['gender', 'state', 'age', 'number_of_dependents', 'marital_status', 'income', 'order_number', 'loyalty_flag', 'spending_flag', 'order_frequency_flag', 'activity_flag', 'order_day_of_week', 'order_hour_of_day', 'department_id', 'prices', 'price_range_loc', 'busiest_day', 'busiest_period_of_day', 'region']]"
   ]
  },
  {
   "cell_type": "code",
   "execution_count": 13,
   "id": "65cfa613",
   "metadata": {},
   "outputs": [
    {
     "data": {
      "text/html": [
       "<div>\n",
       "<style scoped>\n",
       "    .dataframe tbody tr th:only-of-type {\n",
       "        vertical-align: middle;\n",
       "    }\n",
       "\n",
       "    .dataframe tbody tr th {\n",
       "        vertical-align: top;\n",
       "    }\n",
       "\n",
       "    .dataframe thead th {\n",
       "        text-align: right;\n",
       "    }\n",
       "</style>\n",
       "<table border=\"1\" class=\"dataframe\">\n",
       "  <thead>\n",
       "    <tr style=\"text-align: right;\">\n",
       "      <th></th>\n",
       "      <th>gender</th>\n",
       "      <th>state</th>\n",
       "      <th>age</th>\n",
       "      <th>number_of_dependents</th>\n",
       "      <th>marital_status</th>\n",
       "      <th>income</th>\n",
       "      <th>order_number</th>\n",
       "      <th>loyalty_flag</th>\n",
       "      <th>spending_flag</th>\n",
       "      <th>order_frequency_flag</th>\n",
       "      <th>activity_flag</th>\n",
       "      <th>order_day_of_week</th>\n",
       "      <th>order_hour_of_day</th>\n",
       "      <th>department_id</th>\n",
       "      <th>prices</th>\n",
       "      <th>price_range_loc</th>\n",
       "      <th>busiest_day</th>\n",
       "      <th>busiest_period_of_day</th>\n",
       "      <th>region</th>\n",
       "    </tr>\n",
       "  </thead>\n",
       "  <tbody>\n",
       "    <tr>\n",
       "      <th>1</th>\n",
       "      <td>Female</td>\n",
       "      <td>Missouri</td>\n",
       "      <td>48</td>\n",
       "      <td>3</td>\n",
       "      <td>married</td>\n",
       "      <td>165665</td>\n",
       "      <td>7</td>\n",
       "      <td>New customer</td>\n",
       "      <td>Low spender</td>\n",
       "      <td>Regular customer</td>\n",
       "      <td>high activity customer</td>\n",
       "      <td>5</td>\n",
       "      <td>15</td>\n",
       "      <td>7</td>\n",
       "      <td>9.0</td>\n",
       "      <td>Mid-range product</td>\n",
       "      <td>Regularly busy</td>\n",
       "      <td>Most orders</td>\n",
       "      <td>Midwest</td>\n",
       "    </tr>\n",
       "    <tr>\n",
       "      <th>7</th>\n",
       "      <td>Female</td>\n",
       "      <td>Missouri</td>\n",
       "      <td>48</td>\n",
       "      <td>3</td>\n",
       "      <td>married</td>\n",
       "      <td>165665</td>\n",
       "      <td>7</td>\n",
       "      <td>New customer</td>\n",
       "      <td>Low spender</td>\n",
       "      <td>Regular customer</td>\n",
       "      <td>high activity customer</td>\n",
       "      <td>5</td>\n",
       "      <td>15</td>\n",
       "      <td>16</td>\n",
       "      <td>12.6</td>\n",
       "      <td>Mid-range product</td>\n",
       "      <td>Regularly busy</td>\n",
       "      <td>Most orders</td>\n",
       "      <td>Midwest</td>\n",
       "    </tr>\n",
       "    <tr>\n",
       "      <th>9</th>\n",
       "      <td>Female</td>\n",
       "      <td>Missouri</td>\n",
       "      <td>48</td>\n",
       "      <td>3</td>\n",
       "      <td>married</td>\n",
       "      <td>165665</td>\n",
       "      <td>1</td>\n",
       "      <td>New customer</td>\n",
       "      <td>Low spender</td>\n",
       "      <td>Regular customer</td>\n",
       "      <td>high activity customer</td>\n",
       "      <td>2</td>\n",
       "      <td>9</td>\n",
       "      <td>4</td>\n",
       "      <td>4.3</td>\n",
       "      <td>Low-range product</td>\n",
       "      <td>Regularly busy</td>\n",
       "      <td>Most orders</td>\n",
       "      <td>Midwest</td>\n",
       "    </tr>\n",
       "    <tr>\n",
       "      <th>13</th>\n",
       "      <td>Female</td>\n",
       "      <td>Missouri</td>\n",
       "      <td>48</td>\n",
       "      <td>3</td>\n",
       "      <td>married</td>\n",
       "      <td>165665</td>\n",
       "      <td>6</td>\n",
       "      <td>New customer</td>\n",
       "      <td>Low spender</td>\n",
       "      <td>Regular customer</td>\n",
       "      <td>high activity customer</td>\n",
       "      <td>1</td>\n",
       "      <td>8</td>\n",
       "      <td>4</td>\n",
       "      <td>4.3</td>\n",
       "      <td>Low-range product</td>\n",
       "      <td>Busiest days</td>\n",
       "      <td>Average orders</td>\n",
       "      <td>Midwest</td>\n",
       "    </tr>\n",
       "    <tr>\n",
       "      <th>14</th>\n",
       "      <td>Female</td>\n",
       "      <td>Missouri</td>\n",
       "      <td>48</td>\n",
       "      <td>3</td>\n",
       "      <td>married</td>\n",
       "      <td>165665</td>\n",
       "      <td>7</td>\n",
       "      <td>New customer</td>\n",
       "      <td>Low spender</td>\n",
       "      <td>Regular customer</td>\n",
       "      <td>high activity customer</td>\n",
       "      <td>5</td>\n",
       "      <td>15</td>\n",
       "      <td>4</td>\n",
       "      <td>4.3</td>\n",
       "      <td>Low-range product</td>\n",
       "      <td>Regularly busy</td>\n",
       "      <td>Most orders</td>\n",
       "      <td>Midwest</td>\n",
       "    </tr>\n",
       "  </tbody>\n",
       "</table>\n",
       "</div>"
      ],
      "text/plain": [
       "    gender     state  age  number_of_dependents marital_status  income  \\\n",
       "1   Female  Missouri   48                     3        married  165665   \n",
       "7   Female  Missouri   48                     3        married  165665   \n",
       "9   Female  Missouri   48                     3        married  165665   \n",
       "13  Female  Missouri   48                     3        married  165665   \n",
       "14  Female  Missouri   48                     3        married  165665   \n",
       "\n",
       "    order_number  loyalty_flag spending_flag order_frequency_flag  \\\n",
       "1              7  New customer   Low spender     Regular customer   \n",
       "7              7  New customer   Low spender     Regular customer   \n",
       "9              1  New customer   Low spender     Regular customer   \n",
       "13             6  New customer   Low spender     Regular customer   \n",
       "14             7  New customer   Low spender     Regular customer   \n",
       "\n",
       "             activity_flag  order_day_of_week  order_hour_of_day  \\\n",
       "1   high activity customer                  5                 15   \n",
       "7   high activity customer                  5                 15   \n",
       "9   high activity customer                  2                  9   \n",
       "13  high activity customer                  1                  8   \n",
       "14  high activity customer                  5                 15   \n",
       "\n",
       "    department_id  prices    price_range_loc     busiest_day  \\\n",
       "1               7     9.0  Mid-range product  Regularly busy   \n",
       "7              16    12.6  Mid-range product  Regularly busy   \n",
       "9               4     4.3  Low-range product  Regularly busy   \n",
       "13              4     4.3  Low-range product    Busiest days   \n",
       "14              4     4.3  Low-range product  Regularly busy   \n",
       "\n",
       "   busiest_period_of_day   region  \n",
       "1            Most orders  Midwest  \n",
       "7            Most orders  Midwest  \n",
       "9            Most orders  Midwest  \n",
       "13        Average orders  Midwest  \n",
       "14           Most orders  Midwest  "
      ]
     },
     "execution_count": 13,
     "metadata": {},
     "output_type": "execute_result"
    }
   ],
   "source": [
    "# Check output\n",
    "\n",
    "df_final_subset.head()"
   ]
  },
  {
   "cell_type": "code",
   "execution_count": 14,
   "id": "9a1f90bf",
   "metadata": {},
   "outputs": [
    {
     "data": {
      "text/plain": [
       "(9717028, 19)"
      ]
     },
     "execution_count": 14,
     "metadata": {},
     "output_type": "execute_result"
    }
   ],
   "source": [
    "# Check shape\n",
    "\n",
    "df_final_subset.shape"
   ]
  },
  {
   "cell_type": "markdown",
   "id": "f8e6712a",
   "metadata": {},
   "source": [
    "## 3. Assign departments to department id"
   ]
  },
  {
   "cell_type": "code",
   "execution_count": 15,
   "id": "b51859d9",
   "metadata": {},
   "outputs": [],
   "source": [
    "# Import departments data\n",
    "\n",
    "df_depts = pd.read_csv(os.path.join(path, '02 Data', 'Prepared Data', 'departments_wrangled.csv'), index_col= 0)"
   ]
  },
  {
   "cell_type": "code",
   "execution_count": 16,
   "id": "8a971e65",
   "metadata": {},
   "outputs": [
    {
     "data": {
      "text/html": [
       "<div>\n",
       "<style scoped>\n",
       "    .dataframe tbody tr th:only-of-type {\n",
       "        vertical-align: middle;\n",
       "    }\n",
       "\n",
       "    .dataframe tbody tr th {\n",
       "        vertical-align: top;\n",
       "    }\n",
       "\n",
       "    .dataframe thead th {\n",
       "        text-align: right;\n",
       "    }\n",
       "</style>\n",
       "<table border=\"1\" class=\"dataframe\">\n",
       "  <thead>\n",
       "    <tr style=\"text-align: right;\">\n",
       "      <th></th>\n",
       "      <th>department</th>\n",
       "    </tr>\n",
       "    <tr>\n",
       "      <th>department_id</th>\n",
       "      <th></th>\n",
       "    </tr>\n",
       "  </thead>\n",
       "  <tbody>\n",
       "    <tr>\n",
       "      <th>1</th>\n",
       "      <td>frozen</td>\n",
       "    </tr>\n",
       "    <tr>\n",
       "      <th>2</th>\n",
       "      <td>other</td>\n",
       "    </tr>\n",
       "    <tr>\n",
       "      <th>3</th>\n",
       "      <td>bakery</td>\n",
       "    </tr>\n",
       "    <tr>\n",
       "      <th>4</th>\n",
       "      <td>produce</td>\n",
       "    </tr>\n",
       "    <tr>\n",
       "      <th>5</th>\n",
       "      <td>alcohol</td>\n",
       "    </tr>\n",
       "  </tbody>\n",
       "</table>\n",
       "</div>"
      ],
      "text/plain": [
       "              department\n",
       "department_id           \n",
       "1                 frozen\n",
       "2                  other\n",
       "3                 bakery\n",
       "4                produce\n",
       "5                alcohol"
      ]
     },
     "execution_count": 16,
     "metadata": {},
     "output_type": "execute_result"
    }
   ],
   "source": [
    "# Check output\n",
    "\n",
    "df_depts.head()"
   ]
  },
  {
   "cell_type": "code",
   "execution_count": 17,
   "id": "46370a3e",
   "metadata": {},
   "outputs": [],
   "source": [
    "# Create data dictionary for values in the \"department_id\" column\n",
    "\n",
    "data_dict = df_depts.to_dict('index')"
   ]
  },
  {
   "cell_type": "code",
   "execution_count": 18,
   "id": "d5dd066e",
   "metadata": {},
   "outputs": [
    {
     "data": {
      "text/plain": [
       "{1: {'department': 'frozen'},\n",
       " 2: {'department': 'other'},\n",
       " 3: {'department': 'bakery'},\n",
       " 4: {'department': 'produce'},\n",
       " 5: {'department': 'alcohol'},\n",
       " 6: {'department': 'international'},\n",
       " 7: {'department': 'beverages'},\n",
       " 8: {'department': 'pets'},\n",
       " 9: {'department': 'dry goods pasta'},\n",
       " 10: {'department': 'bulk'},\n",
       " 11: {'department': 'personal care'},\n",
       " 12: {'department': 'meat seafood'},\n",
       " 13: {'department': 'pantry'},\n",
       " 14: {'department': 'breakfast'},\n",
       " 15: {'department': 'canned goods'},\n",
       " 16: {'department': 'dairy eggs'},\n",
       " 17: {'department': 'household'},\n",
       " 18: {'department': 'babies'},\n",
       " 19: {'department': 'snacks'},\n",
       " 20: {'department': 'deli'},\n",
       " 21: {'department': 'missing'}}"
      ]
     },
     "execution_count": 18,
     "metadata": {},
     "output_type": "execute_result"
    }
   ],
   "source": [
    "data_dict"
   ]
  },
  {
   "cell_type": "code",
   "execution_count": 19,
   "id": "979d8548",
   "metadata": {},
   "outputs": [
    {
     "name": "stderr",
     "output_type": "stream",
     "text": [
      "C:\\Users\\jomok\\AppData\\Local\\Temp\\ipykernel_17796\\2919222338.py:3: SettingWithCopyWarning: \n",
      "A value is trying to be set on a copy of a slice from a DataFrame.\n",
      "Try using .loc[row_indexer,col_indexer] = value instead\n",
      "\n",
      "See the caveats in the documentation: https://pandas.pydata.org/pandas-docs/stable/user_guide/indexing.html#returning-a-view-versus-a-copy\n",
      "  df_final_subset.loc[df_final_subset['department_id'] == 1, 'department'] = 'frozen'\n"
     ]
    }
   ],
   "source": [
    "# Assign department_id values using data dictionary\n",
    "\n",
    "df_final_subset.loc[df_final_subset['department_id'] == 1, 'department'] = 'frozen'"
   ]
  },
  {
   "cell_type": "code",
   "execution_count": 20,
   "id": "08bf15ed",
   "metadata": {},
   "outputs": [],
   "source": [
    "df_final_subset.loc[df_final_subset['department_id'] == 2, 'department'] = 'other'"
   ]
  },
  {
   "cell_type": "code",
   "execution_count": 21,
   "id": "364670ce",
   "metadata": {},
   "outputs": [],
   "source": [
    "df_final_subset.loc[df_final_subset['department_id'] == 3, 'department'] = 'bakery'"
   ]
  },
  {
   "cell_type": "code",
   "execution_count": 22,
   "id": "18372408",
   "metadata": {},
   "outputs": [],
   "source": [
    "df_final_subset.loc[df_final_subset['department_id'] == 4, 'department'] = 'produce'"
   ]
  },
  {
   "cell_type": "code",
   "execution_count": 23,
   "id": "fc711ab0",
   "metadata": {},
   "outputs": [],
   "source": [
    "df_final_subset.loc[df_final_subset['department_id'] == 5, 'department'] = 'alcohol'"
   ]
  },
  {
   "cell_type": "code",
   "execution_count": 24,
   "id": "5e8f8db3",
   "metadata": {},
   "outputs": [],
   "source": [
    "df_final_subset.loc[df_final_subset['department_id'] == 6, 'department'] = 'international'"
   ]
  },
  {
   "cell_type": "code",
   "execution_count": 25,
   "id": "5a91b13f",
   "metadata": {},
   "outputs": [],
   "source": [
    "df_final_subset.loc[df_final_subset['department_id'] == 7, 'department'] = 'beverages'"
   ]
  },
  {
   "cell_type": "code",
   "execution_count": 26,
   "id": "b15dc78c",
   "metadata": {},
   "outputs": [],
   "source": [
    "df_final_subset.loc[df_final_subset['department_id'] == 8, 'department'] = 'pets'"
   ]
  },
  {
   "cell_type": "code",
   "execution_count": 27,
   "id": "064025da",
   "metadata": {},
   "outputs": [],
   "source": [
    "df_final_subset.loc[df_final_subset['department_id'] == 9, 'department'] = 'dry goods pasta'"
   ]
  },
  {
   "cell_type": "code",
   "execution_count": 28,
   "id": "a3a3407a",
   "metadata": {},
   "outputs": [],
   "source": [
    "df_final_subset.loc[df_final_subset['department_id'] == 10, 'department'] = 'bulk'"
   ]
  },
  {
   "cell_type": "code",
   "execution_count": 29,
   "id": "f4a6488d",
   "metadata": {},
   "outputs": [],
   "source": [
    "df_final_subset.loc[df_final_subset['department_id'] == 11, 'department'] = 'personal care'"
   ]
  },
  {
   "cell_type": "code",
   "execution_count": 30,
   "id": "4ef6290c",
   "metadata": {},
   "outputs": [],
   "source": [
    "df_final_subset.loc[df_final_subset['department_id'] == 12, 'department'] = 'meat seafood'"
   ]
  },
  {
   "cell_type": "code",
   "execution_count": 31,
   "id": "65e34da3",
   "metadata": {},
   "outputs": [],
   "source": [
    "df_final_subset.loc[df_final_subset['department_id'] == 13, 'department'] = 'pantry'"
   ]
  },
  {
   "cell_type": "code",
   "execution_count": 32,
   "id": "ba6883c7",
   "metadata": {},
   "outputs": [],
   "source": [
    "df_final_subset.loc[df_final_subset['department_id'] == 14, 'department'] = 'breakfast'"
   ]
  },
  {
   "cell_type": "code",
   "execution_count": 33,
   "id": "e5da458b",
   "metadata": {},
   "outputs": [],
   "source": [
    "df_final_subset.loc[df_final_subset['department_id'] == 15, 'department'] = 'canned goods'"
   ]
  },
  {
   "cell_type": "code",
   "execution_count": 34,
   "id": "e3737bfc",
   "metadata": {},
   "outputs": [],
   "source": [
    "df_final_subset.loc[df_final_subset['department_id'] == 16, 'department'] = 'dairy eggs'"
   ]
  },
  {
   "cell_type": "code",
   "execution_count": 35,
   "id": "45330b16",
   "metadata": {},
   "outputs": [],
   "source": [
    "df_final_subset.loc[df_final_subset['department_id'] == 17, 'department'] = 'household'"
   ]
  },
  {
   "cell_type": "code",
   "execution_count": 36,
   "id": "4db02ad7",
   "metadata": {},
   "outputs": [],
   "source": [
    "df_final_subset.loc[df_final_subset['department_id'] == 18, 'department'] = 'babies'"
   ]
  },
  {
   "cell_type": "code",
   "execution_count": 37,
   "id": "5eedafb6",
   "metadata": {},
   "outputs": [],
   "source": [
    "df_final_subset.loc[df_final_subset['department_id'] == 19, 'department'] = 'snacks'"
   ]
  },
  {
   "cell_type": "code",
   "execution_count": 38,
   "id": "583b3ed0",
   "metadata": {},
   "outputs": [],
   "source": [
    "df_final_subset.loc[df_final_subset['department_id'] == 20, 'department'] = 'deli'"
   ]
  },
  {
   "cell_type": "code",
   "execution_count": 39,
   "id": "ec2d64f8",
   "metadata": {},
   "outputs": [],
   "source": [
    "df_final_subset.loc[df_final_subset['department_id'] == 21, 'department'] = 'missing'"
   ]
  },
  {
   "cell_type": "code",
   "execution_count": 40,
   "id": "484ee270",
   "metadata": {},
   "outputs": [
    {
     "data": {
      "text/plain": [
       "produce            2842243\n",
       "dairy eggs         1619517\n",
       "snacks              865197\n",
       "beverages           806386\n",
       "frozen              669315\n",
       "pantry              562705\n",
       "bakery              352566\n",
       "canned goods        320262\n",
       "deli                314647\n",
       "dry goods pasta     259397\n",
       "household           221359\n",
       "meat seafood        212725\n",
       "breakfast           211067\n",
       "personal care       133735\n",
       "babies              127467\n",
       "international        80893\n",
       "alcohol              46321\n",
       "pets                 29211\n",
       "missing              20794\n",
       "other                10775\n",
       "bulk                 10446\n",
       "Name: department, dtype: int64"
      ]
     },
     "execution_count": 40,
     "metadata": {},
     "output_type": "execute_result"
    }
   ],
   "source": [
    "# Check frequency \n",
    "\n",
    "df_final_subset['department'].value_counts(dropna=False)"
   ]
  },
  {
   "cell_type": "code",
   "execution_count": 41,
   "id": "3a5b6d23",
   "metadata": {},
   "outputs": [
    {
     "data": {
      "text/plain": [
       "(9717028,)"
      ]
     },
     "execution_count": 41,
     "metadata": {},
     "output_type": "execute_result"
    }
   ],
   "source": [
    "# Check the shape \n",
    "\n",
    "df_final_subset['department'].shape"
   ]
  },
  {
   "cell_type": "code",
   "execution_count": 42,
   "id": "d01d6040",
   "metadata": {},
   "outputs": [
    {
     "data": {
      "text/html": [
       "<div>\n",
       "<style scoped>\n",
       "    .dataframe tbody tr th:only-of-type {\n",
       "        vertical-align: middle;\n",
       "    }\n",
       "\n",
       "    .dataframe tbody tr th {\n",
       "        vertical-align: top;\n",
       "    }\n",
       "\n",
       "    .dataframe thead th {\n",
       "        text-align: right;\n",
       "    }\n",
       "</style>\n",
       "<table border=\"1\" class=\"dataframe\">\n",
       "  <thead>\n",
       "    <tr style=\"text-align: right;\">\n",
       "      <th></th>\n",
       "      <th>gender</th>\n",
       "      <th>state</th>\n",
       "      <th>age</th>\n",
       "      <th>number_of_dependents</th>\n",
       "      <th>marital_status</th>\n",
       "      <th>income</th>\n",
       "      <th>order_number</th>\n",
       "      <th>loyalty_flag</th>\n",
       "      <th>spending_flag</th>\n",
       "      <th>order_frequency_flag</th>\n",
       "      <th>activity_flag</th>\n",
       "      <th>order_day_of_week</th>\n",
       "      <th>order_hour_of_day</th>\n",
       "      <th>department_id</th>\n",
       "      <th>prices</th>\n",
       "      <th>price_range_loc</th>\n",
       "      <th>busiest_day</th>\n",
       "      <th>busiest_period_of_day</th>\n",
       "      <th>region</th>\n",
       "      <th>department</th>\n",
       "    </tr>\n",
       "  </thead>\n",
       "  <tbody>\n",
       "    <tr>\n",
       "      <th>1</th>\n",
       "      <td>Female</td>\n",
       "      <td>Missouri</td>\n",
       "      <td>48</td>\n",
       "      <td>3</td>\n",
       "      <td>married</td>\n",
       "      <td>165665</td>\n",
       "      <td>7</td>\n",
       "      <td>New customer</td>\n",
       "      <td>Low spender</td>\n",
       "      <td>Regular customer</td>\n",
       "      <td>high activity customer</td>\n",
       "      <td>5</td>\n",
       "      <td>15</td>\n",
       "      <td>7</td>\n",
       "      <td>9.0</td>\n",
       "      <td>Mid-range product</td>\n",
       "      <td>Regularly busy</td>\n",
       "      <td>Most orders</td>\n",
       "      <td>Midwest</td>\n",
       "      <td>beverages</td>\n",
       "    </tr>\n",
       "    <tr>\n",
       "      <th>7</th>\n",
       "      <td>Female</td>\n",
       "      <td>Missouri</td>\n",
       "      <td>48</td>\n",
       "      <td>3</td>\n",
       "      <td>married</td>\n",
       "      <td>165665</td>\n",
       "      <td>7</td>\n",
       "      <td>New customer</td>\n",
       "      <td>Low spender</td>\n",
       "      <td>Regular customer</td>\n",
       "      <td>high activity customer</td>\n",
       "      <td>5</td>\n",
       "      <td>15</td>\n",
       "      <td>16</td>\n",
       "      <td>12.6</td>\n",
       "      <td>Mid-range product</td>\n",
       "      <td>Regularly busy</td>\n",
       "      <td>Most orders</td>\n",
       "      <td>Midwest</td>\n",
       "      <td>dairy eggs</td>\n",
       "    </tr>\n",
       "    <tr>\n",
       "      <th>9</th>\n",
       "      <td>Female</td>\n",
       "      <td>Missouri</td>\n",
       "      <td>48</td>\n",
       "      <td>3</td>\n",
       "      <td>married</td>\n",
       "      <td>165665</td>\n",
       "      <td>1</td>\n",
       "      <td>New customer</td>\n",
       "      <td>Low spender</td>\n",
       "      <td>Regular customer</td>\n",
       "      <td>high activity customer</td>\n",
       "      <td>2</td>\n",
       "      <td>9</td>\n",
       "      <td>4</td>\n",
       "      <td>4.3</td>\n",
       "      <td>Low-range product</td>\n",
       "      <td>Regularly busy</td>\n",
       "      <td>Most orders</td>\n",
       "      <td>Midwest</td>\n",
       "      <td>produce</td>\n",
       "    </tr>\n",
       "    <tr>\n",
       "      <th>13</th>\n",
       "      <td>Female</td>\n",
       "      <td>Missouri</td>\n",
       "      <td>48</td>\n",
       "      <td>3</td>\n",
       "      <td>married</td>\n",
       "      <td>165665</td>\n",
       "      <td>6</td>\n",
       "      <td>New customer</td>\n",
       "      <td>Low spender</td>\n",
       "      <td>Regular customer</td>\n",
       "      <td>high activity customer</td>\n",
       "      <td>1</td>\n",
       "      <td>8</td>\n",
       "      <td>4</td>\n",
       "      <td>4.3</td>\n",
       "      <td>Low-range product</td>\n",
       "      <td>Busiest days</td>\n",
       "      <td>Average orders</td>\n",
       "      <td>Midwest</td>\n",
       "      <td>produce</td>\n",
       "    </tr>\n",
       "    <tr>\n",
       "      <th>14</th>\n",
       "      <td>Female</td>\n",
       "      <td>Missouri</td>\n",
       "      <td>48</td>\n",
       "      <td>3</td>\n",
       "      <td>married</td>\n",
       "      <td>165665</td>\n",
       "      <td>7</td>\n",
       "      <td>New customer</td>\n",
       "      <td>Low spender</td>\n",
       "      <td>Regular customer</td>\n",
       "      <td>high activity customer</td>\n",
       "      <td>5</td>\n",
       "      <td>15</td>\n",
       "      <td>4</td>\n",
       "      <td>4.3</td>\n",
       "      <td>Low-range product</td>\n",
       "      <td>Regularly busy</td>\n",
       "      <td>Most orders</td>\n",
       "      <td>Midwest</td>\n",
       "      <td>produce</td>\n",
       "    </tr>\n",
       "  </tbody>\n",
       "</table>\n",
       "</div>"
      ],
      "text/plain": [
       "    gender     state  age  number_of_dependents marital_status  income  \\\n",
       "1   Female  Missouri   48                     3        married  165665   \n",
       "7   Female  Missouri   48                     3        married  165665   \n",
       "9   Female  Missouri   48                     3        married  165665   \n",
       "13  Female  Missouri   48                     3        married  165665   \n",
       "14  Female  Missouri   48                     3        married  165665   \n",
       "\n",
       "    order_number  loyalty_flag spending_flag order_frequency_flag  \\\n",
       "1              7  New customer   Low spender     Regular customer   \n",
       "7              7  New customer   Low spender     Regular customer   \n",
       "9              1  New customer   Low spender     Regular customer   \n",
       "13             6  New customer   Low spender     Regular customer   \n",
       "14             7  New customer   Low spender     Regular customer   \n",
       "\n",
       "             activity_flag  order_day_of_week  order_hour_of_day  \\\n",
       "1   high activity customer                  5                 15   \n",
       "7   high activity customer                  5                 15   \n",
       "9   high activity customer                  2                  9   \n",
       "13  high activity customer                  1                  8   \n",
       "14  high activity customer                  5                 15   \n",
       "\n",
       "    department_id  prices    price_range_loc     busiest_day  \\\n",
       "1               7     9.0  Mid-range product  Regularly busy   \n",
       "7              16    12.6  Mid-range product  Regularly busy   \n",
       "9               4     4.3  Low-range product  Regularly busy   \n",
       "13              4     4.3  Low-range product    Busiest days   \n",
       "14              4     4.3  Low-range product  Regularly busy   \n",
       "\n",
       "   busiest_period_of_day   region  department  \n",
       "1            Most orders  Midwest   beverages  \n",
       "7            Most orders  Midwest  dairy eggs  \n",
       "9            Most orders  Midwest     produce  \n",
       "13        Average orders  Midwest     produce  \n",
       "14           Most orders  Midwest     produce  "
      ]
     },
     "execution_count": 42,
     "metadata": {},
     "output_type": "execute_result"
    }
   ],
   "source": [
    "# Check output\n",
    "\n",
    "df_final_subset.head()"
   ]
  },
  {
   "cell_type": "markdown",
   "id": "4fe003f9",
   "metadata": {},
   "source": [
    "## 4. Create age groups"
   ]
  },
  {
   "cell_type": "code",
   "execution_count": 43,
   "id": "7ce640f1",
   "metadata": {},
   "outputs": [
    {
     "name": "stderr",
     "output_type": "stream",
     "text": [
      "C:\\Users\\jomok\\AppData\\Local\\Temp\\ipykernel_17796\\596873728.py:3: SettingWithCopyWarning: \n",
      "A value is trying to be set on a copy of a slice from a DataFrame.\n",
      "Try using .loc[row_indexer,col_indexer] = value instead\n",
      "\n",
      "See the caveats in the documentation: https://pandas.pydata.org/pandas-docs/stable/user_guide/indexing.html#returning-a-view-versus-a-copy\n",
      "  df_final_subset.loc[(df_final_subset['age'] <= 16) & (df_final_subset['age'] >=0), 'age_group'] = 'Child'\n"
     ]
    }
   ],
   "source": [
    "# Assign age groups\n",
    "\n",
    "df_final_subset.loc[(df_final_subset['age'] <= 16) & (df_final_subset['age'] >=0), 'age_group'] = 'Child'"
   ]
  },
  {
   "cell_type": "code",
   "execution_count": 44,
   "id": "c7ac60bc",
   "metadata": {},
   "outputs": [],
   "source": [
    "df_final_subset.loc[(df_final_subset['age'] <= 30) & (df_final_subset['age'] >=17), 'age_group'] = 'Young Adults'"
   ]
  },
  {
   "cell_type": "code",
   "execution_count": 45,
   "id": "fd29595e",
   "metadata": {},
   "outputs": [],
   "source": [
    "df_final_subset.loc[(df_final_subset['age'] <= 45) & (df_final_subset['age'] >=31), 'age_group'] = 'Middle Aged Adults'"
   ]
  },
  {
   "cell_type": "code",
   "execution_count": 46,
   "id": "c2c2dd21",
   "metadata": {},
   "outputs": [],
   "source": [
    "df_final_subset.loc[df_final_subset['age'] > 45, 'age_group'] = 'Old Adults'"
   ]
  },
  {
   "cell_type": "code",
   "execution_count": 47,
   "id": "c6f4afd9",
   "metadata": {},
   "outputs": [
    {
     "data": {
      "text/plain": [
       "Old Adults            5460728\n",
       "Middle Aged Adults    2278526\n",
       "Young Adults          1977774\n",
       "Name: age_group, dtype: int64"
      ]
     },
     "execution_count": 47,
     "metadata": {},
     "output_type": "execute_result"
    }
   ],
   "source": [
    "# Check frequency \n",
    "\n",
    "df_final_subset['age_group'].value_counts(dropna=False)"
   ]
  },
  {
   "cell_type": "code",
   "execution_count": 48,
   "id": "1326be83",
   "metadata": {},
   "outputs": [
    {
     "data": {
      "text/plain": [
       "(9717028,)"
      ]
     },
     "execution_count": 48,
     "metadata": {},
     "output_type": "execute_result"
    }
   ],
   "source": [
    "# Check the shape \n",
    "\n",
    "df_final_subset['age_group'].shape"
   ]
  },
  {
   "cell_type": "code",
   "execution_count": 49,
   "id": "07e414fa",
   "metadata": {},
   "outputs": [
    {
     "data": {
      "text/html": [
       "<div>\n",
       "<style scoped>\n",
       "    .dataframe tbody tr th:only-of-type {\n",
       "        vertical-align: middle;\n",
       "    }\n",
       "\n",
       "    .dataframe tbody tr th {\n",
       "        vertical-align: top;\n",
       "    }\n",
       "\n",
       "    .dataframe thead th {\n",
       "        text-align: right;\n",
       "    }\n",
       "</style>\n",
       "<table border=\"1\" class=\"dataframe\">\n",
       "  <thead>\n",
       "    <tr style=\"text-align: right;\">\n",
       "      <th></th>\n",
       "      <th>gender</th>\n",
       "      <th>state</th>\n",
       "      <th>age</th>\n",
       "      <th>number_of_dependents</th>\n",
       "      <th>marital_status</th>\n",
       "      <th>income</th>\n",
       "      <th>order_number</th>\n",
       "      <th>loyalty_flag</th>\n",
       "      <th>spending_flag</th>\n",
       "      <th>order_frequency_flag</th>\n",
       "      <th>...</th>\n",
       "      <th>order_day_of_week</th>\n",
       "      <th>order_hour_of_day</th>\n",
       "      <th>department_id</th>\n",
       "      <th>prices</th>\n",
       "      <th>price_range_loc</th>\n",
       "      <th>busiest_day</th>\n",
       "      <th>busiest_period_of_day</th>\n",
       "      <th>region</th>\n",
       "      <th>department</th>\n",
       "      <th>age_group</th>\n",
       "    </tr>\n",
       "  </thead>\n",
       "  <tbody>\n",
       "    <tr>\n",
       "      <th>1</th>\n",
       "      <td>Female</td>\n",
       "      <td>Missouri</td>\n",
       "      <td>48</td>\n",
       "      <td>3</td>\n",
       "      <td>married</td>\n",
       "      <td>165665</td>\n",
       "      <td>7</td>\n",
       "      <td>New customer</td>\n",
       "      <td>Low spender</td>\n",
       "      <td>Regular customer</td>\n",
       "      <td>...</td>\n",
       "      <td>5</td>\n",
       "      <td>15</td>\n",
       "      <td>7</td>\n",
       "      <td>9.0</td>\n",
       "      <td>Mid-range product</td>\n",
       "      <td>Regularly busy</td>\n",
       "      <td>Most orders</td>\n",
       "      <td>Midwest</td>\n",
       "      <td>beverages</td>\n",
       "      <td>Old Adults</td>\n",
       "    </tr>\n",
       "    <tr>\n",
       "      <th>7</th>\n",
       "      <td>Female</td>\n",
       "      <td>Missouri</td>\n",
       "      <td>48</td>\n",
       "      <td>3</td>\n",
       "      <td>married</td>\n",
       "      <td>165665</td>\n",
       "      <td>7</td>\n",
       "      <td>New customer</td>\n",
       "      <td>Low spender</td>\n",
       "      <td>Regular customer</td>\n",
       "      <td>...</td>\n",
       "      <td>5</td>\n",
       "      <td>15</td>\n",
       "      <td>16</td>\n",
       "      <td>12.6</td>\n",
       "      <td>Mid-range product</td>\n",
       "      <td>Regularly busy</td>\n",
       "      <td>Most orders</td>\n",
       "      <td>Midwest</td>\n",
       "      <td>dairy eggs</td>\n",
       "      <td>Old Adults</td>\n",
       "    </tr>\n",
       "    <tr>\n",
       "      <th>9</th>\n",
       "      <td>Female</td>\n",
       "      <td>Missouri</td>\n",
       "      <td>48</td>\n",
       "      <td>3</td>\n",
       "      <td>married</td>\n",
       "      <td>165665</td>\n",
       "      <td>1</td>\n",
       "      <td>New customer</td>\n",
       "      <td>Low spender</td>\n",
       "      <td>Regular customer</td>\n",
       "      <td>...</td>\n",
       "      <td>2</td>\n",
       "      <td>9</td>\n",
       "      <td>4</td>\n",
       "      <td>4.3</td>\n",
       "      <td>Low-range product</td>\n",
       "      <td>Regularly busy</td>\n",
       "      <td>Most orders</td>\n",
       "      <td>Midwest</td>\n",
       "      <td>produce</td>\n",
       "      <td>Old Adults</td>\n",
       "    </tr>\n",
       "    <tr>\n",
       "      <th>13</th>\n",
       "      <td>Female</td>\n",
       "      <td>Missouri</td>\n",
       "      <td>48</td>\n",
       "      <td>3</td>\n",
       "      <td>married</td>\n",
       "      <td>165665</td>\n",
       "      <td>6</td>\n",
       "      <td>New customer</td>\n",
       "      <td>Low spender</td>\n",
       "      <td>Regular customer</td>\n",
       "      <td>...</td>\n",
       "      <td>1</td>\n",
       "      <td>8</td>\n",
       "      <td>4</td>\n",
       "      <td>4.3</td>\n",
       "      <td>Low-range product</td>\n",
       "      <td>Busiest days</td>\n",
       "      <td>Average orders</td>\n",
       "      <td>Midwest</td>\n",
       "      <td>produce</td>\n",
       "      <td>Old Adults</td>\n",
       "    </tr>\n",
       "    <tr>\n",
       "      <th>14</th>\n",
       "      <td>Female</td>\n",
       "      <td>Missouri</td>\n",
       "      <td>48</td>\n",
       "      <td>3</td>\n",
       "      <td>married</td>\n",
       "      <td>165665</td>\n",
       "      <td>7</td>\n",
       "      <td>New customer</td>\n",
       "      <td>Low spender</td>\n",
       "      <td>Regular customer</td>\n",
       "      <td>...</td>\n",
       "      <td>5</td>\n",
       "      <td>15</td>\n",
       "      <td>4</td>\n",
       "      <td>4.3</td>\n",
       "      <td>Low-range product</td>\n",
       "      <td>Regularly busy</td>\n",
       "      <td>Most orders</td>\n",
       "      <td>Midwest</td>\n",
       "      <td>produce</td>\n",
       "      <td>Old Adults</td>\n",
       "    </tr>\n",
       "  </tbody>\n",
       "</table>\n",
       "<p>5 rows × 21 columns</p>\n",
       "</div>"
      ],
      "text/plain": [
       "    gender     state  age  number_of_dependents marital_status  income  \\\n",
       "1   Female  Missouri   48                     3        married  165665   \n",
       "7   Female  Missouri   48                     3        married  165665   \n",
       "9   Female  Missouri   48                     3        married  165665   \n",
       "13  Female  Missouri   48                     3        married  165665   \n",
       "14  Female  Missouri   48                     3        married  165665   \n",
       "\n",
       "    order_number  loyalty_flag spending_flag order_frequency_flag  ...  \\\n",
       "1              7  New customer   Low spender     Regular customer  ...   \n",
       "7              7  New customer   Low spender     Regular customer  ...   \n",
       "9              1  New customer   Low spender     Regular customer  ...   \n",
       "13             6  New customer   Low spender     Regular customer  ...   \n",
       "14             7  New customer   Low spender     Regular customer  ...   \n",
       "\n",
       "   order_day_of_week  order_hour_of_day  department_id  prices  \\\n",
       "1                  5                 15              7     9.0   \n",
       "7                  5                 15             16    12.6   \n",
       "9                  2                  9              4     4.3   \n",
       "13                 1                  8              4     4.3   \n",
       "14                 5                 15              4     4.3   \n",
       "\n",
       "      price_range_loc     busiest_day busiest_period_of_day   region  \\\n",
       "1   Mid-range product  Regularly busy           Most orders  Midwest   \n",
       "7   Mid-range product  Regularly busy           Most orders  Midwest   \n",
       "9   Low-range product  Regularly busy           Most orders  Midwest   \n",
       "13  Low-range product    Busiest days        Average orders  Midwest   \n",
       "14  Low-range product  Regularly busy           Most orders  Midwest   \n",
       "\n",
       "    department   age_group  \n",
       "1    beverages  Old Adults  \n",
       "7   dairy eggs  Old Adults  \n",
       "9      produce  Old Adults  \n",
       "13     produce  Old Adults  \n",
       "14     produce  Old Adults  \n",
       "\n",
       "[5 rows x 21 columns]"
      ]
     },
     "execution_count": 49,
     "metadata": {},
     "output_type": "execute_result"
    }
   ],
   "source": [
    "# Check output\n",
    "\n",
    "df_final_subset.head()"
   ]
  },
  {
   "cell_type": "markdown",
   "id": "f5c5fba9",
   "metadata": {},
   "source": [
    "## 5. Create income groups"
   ]
  },
  {
   "cell_type": "code",
   "execution_count": 50,
   "id": "ad4de457",
   "metadata": {},
   "outputs": [
    {
     "name": "stderr",
     "output_type": "stream",
     "text": [
      "C:\\Users\\jomok\\AppData\\Local\\Temp\\ipykernel_17796\\2312493979.py:3: SettingWithCopyWarning: \n",
      "A value is trying to be set on a copy of a slice from a DataFrame.\n",
      "Try using .loc[row_indexer,col_indexer] = value instead\n",
      "\n",
      "See the caveats in the documentation: https://pandas.pydata.org/pandas-docs/stable/user_guide/indexing.html#returning-a-view-versus-a-copy\n",
      "  df_final_subset.loc[df_final_subset['income'] < 43350, 'income_group'] = 'Low Income'\n"
     ]
    }
   ],
   "source": [
    "# Assign income groups\n",
    "\n",
    "df_final_subset.loc[df_final_subset['income'] < 43350, 'income_group'] = 'Low Income'"
   ]
  },
  {
   "cell_type": "code",
   "execution_count": 51,
   "id": "a0dc99d3",
   "metadata": {},
   "outputs": [],
   "source": [
    "df_final_subset.loc[(df_final_subset['income'] <= 130000) & (df_final_subset['income'] >=43350), 'income_group'] = 'Middle Income'"
   ]
  },
  {
   "cell_type": "code",
   "execution_count": 52,
   "id": "2ae6c0ba",
   "metadata": {},
   "outputs": [],
   "source": [
    "df_final_subset.loc[df_final_subset['income'] > 130000, 'income_group'] = 'Upper Income'"
   ]
  },
  {
   "cell_type": "markdown",
   "id": "4cff5e4e",
   "metadata": {},
   "source": [
    "Income groups is a rough estimate, based upon U.S. Census Bureau 2021 median household groups, and does not contemplate family size or location."
   ]
  },
  {
   "cell_type": "code",
   "execution_count": 53,
   "id": "736e26c3",
   "metadata": {},
   "outputs": [
    {
     "data": {
      "text/plain": [
       "Middle Income    6705294\n",
       "Upper Income     2314596\n",
       "Low Income        697138\n",
       "Name: income_group, dtype: int64"
      ]
     },
     "execution_count": 53,
     "metadata": {},
     "output_type": "execute_result"
    }
   ],
   "source": [
    "# Check frequency \n",
    "\n",
    "df_final_subset['income_group'].value_counts(dropna=False)"
   ]
  },
  {
   "cell_type": "code",
   "execution_count": 54,
   "id": "dd3c9042",
   "metadata": {},
   "outputs": [
    {
     "data": {
      "text/plain": [
       "(9717028,)"
      ]
     },
     "execution_count": 54,
     "metadata": {},
     "output_type": "execute_result"
    }
   ],
   "source": [
    "# Check the shape \n",
    "\n",
    "df_final_subset['income_group'].shape"
   ]
  },
  {
   "cell_type": "code",
   "execution_count": 55,
   "id": "4d036d65",
   "metadata": {},
   "outputs": [
    {
     "data": {
      "text/html": [
       "<div>\n",
       "<style scoped>\n",
       "    .dataframe tbody tr th:only-of-type {\n",
       "        vertical-align: middle;\n",
       "    }\n",
       "\n",
       "    .dataframe tbody tr th {\n",
       "        vertical-align: top;\n",
       "    }\n",
       "\n",
       "    .dataframe thead th {\n",
       "        text-align: right;\n",
       "    }\n",
       "</style>\n",
       "<table border=\"1\" class=\"dataframe\">\n",
       "  <thead>\n",
       "    <tr style=\"text-align: right;\">\n",
       "      <th></th>\n",
       "      <th>gender</th>\n",
       "      <th>state</th>\n",
       "      <th>age</th>\n",
       "      <th>number_of_dependents</th>\n",
       "      <th>marital_status</th>\n",
       "      <th>income</th>\n",
       "      <th>order_number</th>\n",
       "      <th>loyalty_flag</th>\n",
       "      <th>spending_flag</th>\n",
       "      <th>order_frequency_flag</th>\n",
       "      <th>...</th>\n",
       "      <th>order_hour_of_day</th>\n",
       "      <th>department_id</th>\n",
       "      <th>prices</th>\n",
       "      <th>price_range_loc</th>\n",
       "      <th>busiest_day</th>\n",
       "      <th>busiest_period_of_day</th>\n",
       "      <th>region</th>\n",
       "      <th>department</th>\n",
       "      <th>age_group</th>\n",
       "      <th>income_group</th>\n",
       "    </tr>\n",
       "  </thead>\n",
       "  <tbody>\n",
       "    <tr>\n",
       "      <th>1</th>\n",
       "      <td>Female</td>\n",
       "      <td>Missouri</td>\n",
       "      <td>48</td>\n",
       "      <td>3</td>\n",
       "      <td>married</td>\n",
       "      <td>165665</td>\n",
       "      <td>7</td>\n",
       "      <td>New customer</td>\n",
       "      <td>Low spender</td>\n",
       "      <td>Regular customer</td>\n",
       "      <td>...</td>\n",
       "      <td>15</td>\n",
       "      <td>7</td>\n",
       "      <td>9.0</td>\n",
       "      <td>Mid-range product</td>\n",
       "      <td>Regularly busy</td>\n",
       "      <td>Most orders</td>\n",
       "      <td>Midwest</td>\n",
       "      <td>beverages</td>\n",
       "      <td>Old Adults</td>\n",
       "      <td>Upper Income</td>\n",
       "    </tr>\n",
       "    <tr>\n",
       "      <th>7</th>\n",
       "      <td>Female</td>\n",
       "      <td>Missouri</td>\n",
       "      <td>48</td>\n",
       "      <td>3</td>\n",
       "      <td>married</td>\n",
       "      <td>165665</td>\n",
       "      <td>7</td>\n",
       "      <td>New customer</td>\n",
       "      <td>Low spender</td>\n",
       "      <td>Regular customer</td>\n",
       "      <td>...</td>\n",
       "      <td>15</td>\n",
       "      <td>16</td>\n",
       "      <td>12.6</td>\n",
       "      <td>Mid-range product</td>\n",
       "      <td>Regularly busy</td>\n",
       "      <td>Most orders</td>\n",
       "      <td>Midwest</td>\n",
       "      <td>dairy eggs</td>\n",
       "      <td>Old Adults</td>\n",
       "      <td>Upper Income</td>\n",
       "    </tr>\n",
       "    <tr>\n",
       "      <th>9</th>\n",
       "      <td>Female</td>\n",
       "      <td>Missouri</td>\n",
       "      <td>48</td>\n",
       "      <td>3</td>\n",
       "      <td>married</td>\n",
       "      <td>165665</td>\n",
       "      <td>1</td>\n",
       "      <td>New customer</td>\n",
       "      <td>Low spender</td>\n",
       "      <td>Regular customer</td>\n",
       "      <td>...</td>\n",
       "      <td>9</td>\n",
       "      <td>4</td>\n",
       "      <td>4.3</td>\n",
       "      <td>Low-range product</td>\n",
       "      <td>Regularly busy</td>\n",
       "      <td>Most orders</td>\n",
       "      <td>Midwest</td>\n",
       "      <td>produce</td>\n",
       "      <td>Old Adults</td>\n",
       "      <td>Upper Income</td>\n",
       "    </tr>\n",
       "    <tr>\n",
       "      <th>13</th>\n",
       "      <td>Female</td>\n",
       "      <td>Missouri</td>\n",
       "      <td>48</td>\n",
       "      <td>3</td>\n",
       "      <td>married</td>\n",
       "      <td>165665</td>\n",
       "      <td>6</td>\n",
       "      <td>New customer</td>\n",
       "      <td>Low spender</td>\n",
       "      <td>Regular customer</td>\n",
       "      <td>...</td>\n",
       "      <td>8</td>\n",
       "      <td>4</td>\n",
       "      <td>4.3</td>\n",
       "      <td>Low-range product</td>\n",
       "      <td>Busiest days</td>\n",
       "      <td>Average orders</td>\n",
       "      <td>Midwest</td>\n",
       "      <td>produce</td>\n",
       "      <td>Old Adults</td>\n",
       "      <td>Upper Income</td>\n",
       "    </tr>\n",
       "    <tr>\n",
       "      <th>14</th>\n",
       "      <td>Female</td>\n",
       "      <td>Missouri</td>\n",
       "      <td>48</td>\n",
       "      <td>3</td>\n",
       "      <td>married</td>\n",
       "      <td>165665</td>\n",
       "      <td>7</td>\n",
       "      <td>New customer</td>\n",
       "      <td>Low spender</td>\n",
       "      <td>Regular customer</td>\n",
       "      <td>...</td>\n",
       "      <td>15</td>\n",
       "      <td>4</td>\n",
       "      <td>4.3</td>\n",
       "      <td>Low-range product</td>\n",
       "      <td>Regularly busy</td>\n",
       "      <td>Most orders</td>\n",
       "      <td>Midwest</td>\n",
       "      <td>produce</td>\n",
       "      <td>Old Adults</td>\n",
       "      <td>Upper Income</td>\n",
       "    </tr>\n",
       "  </tbody>\n",
       "</table>\n",
       "<p>5 rows × 22 columns</p>\n",
       "</div>"
      ],
      "text/plain": [
       "    gender     state  age  number_of_dependents marital_status  income  \\\n",
       "1   Female  Missouri   48                     3        married  165665   \n",
       "7   Female  Missouri   48                     3        married  165665   \n",
       "9   Female  Missouri   48                     3        married  165665   \n",
       "13  Female  Missouri   48                     3        married  165665   \n",
       "14  Female  Missouri   48                     3        married  165665   \n",
       "\n",
       "    order_number  loyalty_flag spending_flag order_frequency_flag  ...  \\\n",
       "1              7  New customer   Low spender     Regular customer  ...   \n",
       "7              7  New customer   Low spender     Regular customer  ...   \n",
       "9              1  New customer   Low spender     Regular customer  ...   \n",
       "13             6  New customer   Low spender     Regular customer  ...   \n",
       "14             7  New customer   Low spender     Regular customer  ...   \n",
       "\n",
       "   order_hour_of_day  department_id  prices    price_range_loc  \\\n",
       "1                 15              7     9.0  Mid-range product   \n",
       "7                 15             16    12.6  Mid-range product   \n",
       "9                  9              4     4.3  Low-range product   \n",
       "13                 8              4     4.3  Low-range product   \n",
       "14                15              4     4.3  Low-range product   \n",
       "\n",
       "       busiest_day busiest_period_of_day   region  department   age_group  \\\n",
       "1   Regularly busy           Most orders  Midwest   beverages  Old Adults   \n",
       "7   Regularly busy           Most orders  Midwest  dairy eggs  Old Adults   \n",
       "9   Regularly busy           Most orders  Midwest     produce  Old Adults   \n",
       "13    Busiest days        Average orders  Midwest     produce  Old Adults   \n",
       "14  Regularly busy           Most orders  Midwest     produce  Old Adults   \n",
       "\n",
       "    income_group  \n",
       "1   Upper Income  \n",
       "7   Upper Income  \n",
       "9   Upper Income  \n",
       "13  Upper Income  \n",
       "14  Upper Income  \n",
       "\n",
       "[5 rows x 22 columns]"
      ]
     },
     "execution_count": 55,
     "metadata": {},
     "output_type": "execute_result"
    }
   ],
   "source": [
    "# Check output\n",
    "\n",
    "df_final_subset.head()"
   ]
  },
  {
   "cell_type": "markdown",
   "id": "d3183f17",
   "metadata": {},
   "source": [
    "## 6. Create parent groups"
   ]
  },
  {
   "cell_type": "code",
   "execution_count": 56,
   "id": "d6fab420",
   "metadata": {},
   "outputs": [
    {
     "name": "stderr",
     "output_type": "stream",
     "text": [
      "C:\\Users\\jomok\\AppData\\Local\\Temp\\ipykernel_17796\\4027709198.py:3: SettingWithCopyWarning: \n",
      "A value is trying to be set on a copy of a slice from a DataFrame.\n",
      "Try using .loc[row_indexer,col_indexer] = value instead\n",
      "\n",
      "See the caveats in the documentation: https://pandas.pydata.org/pandas-docs/stable/user_guide/indexing.html#returning-a-view-versus-a-copy\n",
      "  df_final_subset.loc[df_final_subset['number_of_dependents'] >0, 'dependents_group'] = 'Parent'\n"
     ]
    }
   ],
   "source": [
    "# Assign dependent groups\n",
    "\n",
    "df_final_subset.loc[df_final_subset['number_of_dependents'] >0, 'dependents_group'] = 'Parent'"
   ]
  },
  {
   "cell_type": "code",
   "execution_count": 57,
   "id": "e2ee1609",
   "metadata": {},
   "outputs": [],
   "source": [
    "df_final_subset.loc[df_final_subset['number_of_dependents'] ==0, 'dependents_group'] = 'No Children'"
   ]
  },
  {
   "cell_type": "code",
   "execution_count": 58,
   "id": "c3716368",
   "metadata": {},
   "outputs": [
    {
     "data": {
      "text/plain": [
       "Parent         7289650\n",
       "No Children    2427378\n",
       "Name: dependents_group, dtype: int64"
      ]
     },
     "execution_count": 58,
     "metadata": {},
     "output_type": "execute_result"
    }
   ],
   "source": [
    "# Check frequency \n",
    "\n",
    "df_final_subset['dependents_group'].value_counts(dropna=False)"
   ]
  },
  {
   "cell_type": "code",
   "execution_count": 59,
   "id": "f115ded3",
   "metadata": {},
   "outputs": [
    {
     "data": {
      "text/plain": [
       "(9717028,)"
      ]
     },
     "execution_count": 59,
     "metadata": {},
     "output_type": "execute_result"
    }
   ],
   "source": [
    "# Check the shape \n",
    "\n",
    "df_final_subset['dependents_group'].shape"
   ]
  },
  {
   "cell_type": "code",
   "execution_count": 60,
   "id": "f3ede9d4",
   "metadata": {},
   "outputs": [
    {
     "data": {
      "text/html": [
       "<div>\n",
       "<style scoped>\n",
       "    .dataframe tbody tr th:only-of-type {\n",
       "        vertical-align: middle;\n",
       "    }\n",
       "\n",
       "    .dataframe tbody tr th {\n",
       "        vertical-align: top;\n",
       "    }\n",
       "\n",
       "    .dataframe thead th {\n",
       "        text-align: right;\n",
       "    }\n",
       "</style>\n",
       "<table border=\"1\" class=\"dataframe\">\n",
       "  <thead>\n",
       "    <tr style=\"text-align: right;\">\n",
       "      <th></th>\n",
       "      <th>gender</th>\n",
       "      <th>state</th>\n",
       "      <th>age</th>\n",
       "      <th>number_of_dependents</th>\n",
       "      <th>marital_status</th>\n",
       "      <th>income</th>\n",
       "      <th>order_number</th>\n",
       "      <th>loyalty_flag</th>\n",
       "      <th>spending_flag</th>\n",
       "      <th>order_frequency_flag</th>\n",
       "      <th>...</th>\n",
       "      <th>department_id</th>\n",
       "      <th>prices</th>\n",
       "      <th>price_range_loc</th>\n",
       "      <th>busiest_day</th>\n",
       "      <th>busiest_period_of_day</th>\n",
       "      <th>region</th>\n",
       "      <th>department</th>\n",
       "      <th>age_group</th>\n",
       "      <th>income_group</th>\n",
       "      <th>dependents_group</th>\n",
       "    </tr>\n",
       "  </thead>\n",
       "  <tbody>\n",
       "    <tr>\n",
       "      <th>1</th>\n",
       "      <td>Female</td>\n",
       "      <td>Missouri</td>\n",
       "      <td>48</td>\n",
       "      <td>3</td>\n",
       "      <td>married</td>\n",
       "      <td>165665</td>\n",
       "      <td>7</td>\n",
       "      <td>New customer</td>\n",
       "      <td>Low spender</td>\n",
       "      <td>Regular customer</td>\n",
       "      <td>...</td>\n",
       "      <td>7</td>\n",
       "      <td>9.0</td>\n",
       "      <td>Mid-range product</td>\n",
       "      <td>Regularly busy</td>\n",
       "      <td>Most orders</td>\n",
       "      <td>Midwest</td>\n",
       "      <td>beverages</td>\n",
       "      <td>Old Adults</td>\n",
       "      <td>Upper Income</td>\n",
       "      <td>Parent</td>\n",
       "    </tr>\n",
       "    <tr>\n",
       "      <th>7</th>\n",
       "      <td>Female</td>\n",
       "      <td>Missouri</td>\n",
       "      <td>48</td>\n",
       "      <td>3</td>\n",
       "      <td>married</td>\n",
       "      <td>165665</td>\n",
       "      <td>7</td>\n",
       "      <td>New customer</td>\n",
       "      <td>Low spender</td>\n",
       "      <td>Regular customer</td>\n",
       "      <td>...</td>\n",
       "      <td>16</td>\n",
       "      <td>12.6</td>\n",
       "      <td>Mid-range product</td>\n",
       "      <td>Regularly busy</td>\n",
       "      <td>Most orders</td>\n",
       "      <td>Midwest</td>\n",
       "      <td>dairy eggs</td>\n",
       "      <td>Old Adults</td>\n",
       "      <td>Upper Income</td>\n",
       "      <td>Parent</td>\n",
       "    </tr>\n",
       "    <tr>\n",
       "      <th>9</th>\n",
       "      <td>Female</td>\n",
       "      <td>Missouri</td>\n",
       "      <td>48</td>\n",
       "      <td>3</td>\n",
       "      <td>married</td>\n",
       "      <td>165665</td>\n",
       "      <td>1</td>\n",
       "      <td>New customer</td>\n",
       "      <td>Low spender</td>\n",
       "      <td>Regular customer</td>\n",
       "      <td>...</td>\n",
       "      <td>4</td>\n",
       "      <td>4.3</td>\n",
       "      <td>Low-range product</td>\n",
       "      <td>Regularly busy</td>\n",
       "      <td>Most orders</td>\n",
       "      <td>Midwest</td>\n",
       "      <td>produce</td>\n",
       "      <td>Old Adults</td>\n",
       "      <td>Upper Income</td>\n",
       "      <td>Parent</td>\n",
       "    </tr>\n",
       "    <tr>\n",
       "      <th>13</th>\n",
       "      <td>Female</td>\n",
       "      <td>Missouri</td>\n",
       "      <td>48</td>\n",
       "      <td>3</td>\n",
       "      <td>married</td>\n",
       "      <td>165665</td>\n",
       "      <td>6</td>\n",
       "      <td>New customer</td>\n",
       "      <td>Low spender</td>\n",
       "      <td>Regular customer</td>\n",
       "      <td>...</td>\n",
       "      <td>4</td>\n",
       "      <td>4.3</td>\n",
       "      <td>Low-range product</td>\n",
       "      <td>Busiest days</td>\n",
       "      <td>Average orders</td>\n",
       "      <td>Midwest</td>\n",
       "      <td>produce</td>\n",
       "      <td>Old Adults</td>\n",
       "      <td>Upper Income</td>\n",
       "      <td>Parent</td>\n",
       "    </tr>\n",
       "    <tr>\n",
       "      <th>14</th>\n",
       "      <td>Female</td>\n",
       "      <td>Missouri</td>\n",
       "      <td>48</td>\n",
       "      <td>3</td>\n",
       "      <td>married</td>\n",
       "      <td>165665</td>\n",
       "      <td>7</td>\n",
       "      <td>New customer</td>\n",
       "      <td>Low spender</td>\n",
       "      <td>Regular customer</td>\n",
       "      <td>...</td>\n",
       "      <td>4</td>\n",
       "      <td>4.3</td>\n",
       "      <td>Low-range product</td>\n",
       "      <td>Regularly busy</td>\n",
       "      <td>Most orders</td>\n",
       "      <td>Midwest</td>\n",
       "      <td>produce</td>\n",
       "      <td>Old Adults</td>\n",
       "      <td>Upper Income</td>\n",
       "      <td>Parent</td>\n",
       "    </tr>\n",
       "  </tbody>\n",
       "</table>\n",
       "<p>5 rows × 23 columns</p>\n",
       "</div>"
      ],
      "text/plain": [
       "    gender     state  age  number_of_dependents marital_status  income  \\\n",
       "1   Female  Missouri   48                     3        married  165665   \n",
       "7   Female  Missouri   48                     3        married  165665   \n",
       "9   Female  Missouri   48                     3        married  165665   \n",
       "13  Female  Missouri   48                     3        married  165665   \n",
       "14  Female  Missouri   48                     3        married  165665   \n",
       "\n",
       "    order_number  loyalty_flag spending_flag order_frequency_flag  ...  \\\n",
       "1              7  New customer   Low spender     Regular customer  ...   \n",
       "7              7  New customer   Low spender     Regular customer  ...   \n",
       "9              1  New customer   Low spender     Regular customer  ...   \n",
       "13             6  New customer   Low spender     Regular customer  ...   \n",
       "14             7  New customer   Low spender     Regular customer  ...   \n",
       "\n",
       "   department_id  prices    price_range_loc     busiest_day  \\\n",
       "1              7     9.0  Mid-range product  Regularly busy   \n",
       "7             16    12.6  Mid-range product  Regularly busy   \n",
       "9              4     4.3  Low-range product  Regularly busy   \n",
       "13             4     4.3  Low-range product    Busiest days   \n",
       "14             4     4.3  Low-range product  Regularly busy   \n",
       "\n",
       "    busiest_period_of_day   region  department   age_group  income_group  \\\n",
       "1             Most orders  Midwest   beverages  Old Adults  Upper Income   \n",
       "7             Most orders  Midwest  dairy eggs  Old Adults  Upper Income   \n",
       "9             Most orders  Midwest     produce  Old Adults  Upper Income   \n",
       "13         Average orders  Midwest     produce  Old Adults  Upper Income   \n",
       "14            Most orders  Midwest     produce  Old Adults  Upper Income   \n",
       "\n",
       "   dependents_group  \n",
       "1            Parent  \n",
       "7            Parent  \n",
       "9            Parent  \n",
       "13           Parent  \n",
       "14           Parent  \n",
       "\n",
       "[5 rows x 23 columns]"
      ]
     },
     "execution_count": 60,
     "metadata": {},
     "output_type": "execute_result"
    }
   ],
   "source": [
    "# Check output\n",
    "\n",
    "df_final_subset.head()"
   ]
  },
  {
   "cell_type": "markdown",
   "id": "0f4469e8",
   "metadata": {},
   "source": [
    "## 7. Create customer profiles"
   ]
  },
  {
   "cell_type": "code",
   "execution_count": 61,
   "id": "2ca3118c",
   "metadata": {},
   "outputs": [
    {
     "name": "stderr",
     "output_type": "stream",
     "text": [
      "C:\\Users\\jomok\\AppData\\Local\\Temp\\ipykernel_17796\\9419514.py:3: SettingWithCopyWarning: \n",
      "A value is trying to be set on a copy of a slice from a DataFrame.\n",
      "Try using .loc[row_indexer,col_indexer] = value instead\n",
      "\n",
      "See the caveats in the documentation: https://pandas.pydata.org/pandas-docs/stable/user_guide/indexing.html#returning-a-view-versus-a-copy\n",
      "  df_final_subset.loc[(df_final_subset['marital_status'] != 'married') & (df_final_subset['number_of_dependents'] >0), 'customer_profile'] = 'Single parent'\n"
     ]
    }
   ],
   "source": [
    "# Assign customer profile group\n",
    "\n",
    "df_final_subset.loc[(df_final_subset['marital_status'] != 'married') & (df_final_subset['number_of_dependents'] >0), 'customer_profile'] = 'Single parent'"
   ]
  },
  {
   "cell_type": "code",
   "execution_count": 62,
   "id": "996f74cf",
   "metadata": {},
   "outputs": [],
   "source": [
    "df_final_subset.loc[(df_final_subset['marital_status'] != 'married') & (df_final_subset['gender'] == 'Female') & (df_final_subset['number_of_dependents'] ==0), 'customer_profile'] = 'Single female without children'"
   ]
  },
  {
   "cell_type": "code",
   "execution_count": 63,
   "id": "d1943361",
   "metadata": {},
   "outputs": [],
   "source": [
    "df_final_subset.loc[(df_final_subset['marital_status'] != 'married') & (df_final_subset['gender'] == 'Male') & (df_final_subset['number_of_dependents'] ==0), 'customer_profile'] = 'Single male without children'"
   ]
  },
  {
   "cell_type": "code",
   "execution_count": 64,
   "id": "b3670b4a",
   "metadata": {},
   "outputs": [],
   "source": [
    "df_final_subset.loc[(df_final_subset['age'] < 30) & (df_final_subset['marital_status'] == 'married') & (df_final_subset['number_of_dependents'] >0), 'customer_profile'] = 'Married young parent'"
   ]
  },
  {
   "cell_type": "code",
   "execution_count": 65,
   "id": "128382c3",
   "metadata": {},
   "outputs": [],
   "source": [
    "df_final_subset.loc[(df_final_subset['age'] >= 30) & (df_final_subset['marital_status'] == 'married') & (df_final_subset['number_of_dependents'] >0), 'customer_profile'] = 'Married older parent'"
   ]
  },
  {
   "cell_type": "code",
   "execution_count": 66,
   "id": "2705801e",
   "metadata": {},
   "outputs": [],
   "source": [
    "df_final_subset.loc[(df_final_subset['marital_status'] == 'married') & (df_final_subset['number_of_dependents'] ==0), 'customer_profile'] = 'Married without children'"
   ]
  },
  {
   "cell_type": "code",
   "execution_count": 67,
   "id": "07d6d637",
   "metadata": {},
   "outputs": [
    {
     "data": {
      "text/plain": [
       "Married older parent              5917638\n",
       "Single male without children      1217809\n",
       "Single female without children    1209569\n",
       "Married young parent               907443\n",
       "Single parent                      464569\n",
       "Name: customer_profile, dtype: int64"
      ]
     },
     "execution_count": 67,
     "metadata": {},
     "output_type": "execute_result"
    }
   ],
   "source": [
    "# Check frequency \n",
    "\n",
    "df_final_subset['customer_profile'].value_counts(dropna=False)"
   ]
  },
  {
   "cell_type": "code",
   "execution_count": 68,
   "id": "ebd656f8",
   "metadata": {},
   "outputs": [
    {
     "data": {
      "text/plain": [
       "(9717028,)"
      ]
     },
     "execution_count": 68,
     "metadata": {},
     "output_type": "execute_result"
    }
   ],
   "source": [
    "# Check shape \n",
    "\n",
    "df_final_subset['customer_profile'].shape"
   ]
  },
  {
   "cell_type": "code",
   "execution_count": 69,
   "id": "6c0dd491",
   "metadata": {},
   "outputs": [
    {
     "data": {
      "text/html": [
       "<div>\n",
       "<style scoped>\n",
       "    .dataframe tbody tr th:only-of-type {\n",
       "        vertical-align: middle;\n",
       "    }\n",
       "\n",
       "    .dataframe tbody tr th {\n",
       "        vertical-align: top;\n",
       "    }\n",
       "\n",
       "    .dataframe thead th {\n",
       "        text-align: right;\n",
       "    }\n",
       "</style>\n",
       "<table border=\"1\" class=\"dataframe\">\n",
       "  <thead>\n",
       "    <tr style=\"text-align: right;\">\n",
       "      <th></th>\n",
       "      <th>gender</th>\n",
       "      <th>state</th>\n",
       "      <th>age</th>\n",
       "      <th>number_of_dependents</th>\n",
       "      <th>marital_status</th>\n",
       "      <th>income</th>\n",
       "      <th>order_number</th>\n",
       "      <th>loyalty_flag</th>\n",
       "      <th>spending_flag</th>\n",
       "      <th>order_frequency_flag</th>\n",
       "      <th>...</th>\n",
       "      <th>prices</th>\n",
       "      <th>price_range_loc</th>\n",
       "      <th>busiest_day</th>\n",
       "      <th>busiest_period_of_day</th>\n",
       "      <th>region</th>\n",
       "      <th>department</th>\n",
       "      <th>age_group</th>\n",
       "      <th>income_group</th>\n",
       "      <th>dependents_group</th>\n",
       "      <th>customer_profile</th>\n",
       "    </tr>\n",
       "  </thead>\n",
       "  <tbody>\n",
       "    <tr>\n",
       "      <th>1</th>\n",
       "      <td>Female</td>\n",
       "      <td>Missouri</td>\n",
       "      <td>48</td>\n",
       "      <td>3</td>\n",
       "      <td>married</td>\n",
       "      <td>165665</td>\n",
       "      <td>7</td>\n",
       "      <td>New customer</td>\n",
       "      <td>Low spender</td>\n",
       "      <td>Regular customer</td>\n",
       "      <td>...</td>\n",
       "      <td>9.0</td>\n",
       "      <td>Mid-range product</td>\n",
       "      <td>Regularly busy</td>\n",
       "      <td>Most orders</td>\n",
       "      <td>Midwest</td>\n",
       "      <td>beverages</td>\n",
       "      <td>Old Adults</td>\n",
       "      <td>Upper Income</td>\n",
       "      <td>Parent</td>\n",
       "      <td>Married older parent</td>\n",
       "    </tr>\n",
       "    <tr>\n",
       "      <th>7</th>\n",
       "      <td>Female</td>\n",
       "      <td>Missouri</td>\n",
       "      <td>48</td>\n",
       "      <td>3</td>\n",
       "      <td>married</td>\n",
       "      <td>165665</td>\n",
       "      <td>7</td>\n",
       "      <td>New customer</td>\n",
       "      <td>Low spender</td>\n",
       "      <td>Regular customer</td>\n",
       "      <td>...</td>\n",
       "      <td>12.6</td>\n",
       "      <td>Mid-range product</td>\n",
       "      <td>Regularly busy</td>\n",
       "      <td>Most orders</td>\n",
       "      <td>Midwest</td>\n",
       "      <td>dairy eggs</td>\n",
       "      <td>Old Adults</td>\n",
       "      <td>Upper Income</td>\n",
       "      <td>Parent</td>\n",
       "      <td>Married older parent</td>\n",
       "    </tr>\n",
       "    <tr>\n",
       "      <th>9</th>\n",
       "      <td>Female</td>\n",
       "      <td>Missouri</td>\n",
       "      <td>48</td>\n",
       "      <td>3</td>\n",
       "      <td>married</td>\n",
       "      <td>165665</td>\n",
       "      <td>1</td>\n",
       "      <td>New customer</td>\n",
       "      <td>Low spender</td>\n",
       "      <td>Regular customer</td>\n",
       "      <td>...</td>\n",
       "      <td>4.3</td>\n",
       "      <td>Low-range product</td>\n",
       "      <td>Regularly busy</td>\n",
       "      <td>Most orders</td>\n",
       "      <td>Midwest</td>\n",
       "      <td>produce</td>\n",
       "      <td>Old Adults</td>\n",
       "      <td>Upper Income</td>\n",
       "      <td>Parent</td>\n",
       "      <td>Married older parent</td>\n",
       "    </tr>\n",
       "    <tr>\n",
       "      <th>13</th>\n",
       "      <td>Female</td>\n",
       "      <td>Missouri</td>\n",
       "      <td>48</td>\n",
       "      <td>3</td>\n",
       "      <td>married</td>\n",
       "      <td>165665</td>\n",
       "      <td>6</td>\n",
       "      <td>New customer</td>\n",
       "      <td>Low spender</td>\n",
       "      <td>Regular customer</td>\n",
       "      <td>...</td>\n",
       "      <td>4.3</td>\n",
       "      <td>Low-range product</td>\n",
       "      <td>Busiest days</td>\n",
       "      <td>Average orders</td>\n",
       "      <td>Midwest</td>\n",
       "      <td>produce</td>\n",
       "      <td>Old Adults</td>\n",
       "      <td>Upper Income</td>\n",
       "      <td>Parent</td>\n",
       "      <td>Married older parent</td>\n",
       "    </tr>\n",
       "    <tr>\n",
       "      <th>14</th>\n",
       "      <td>Female</td>\n",
       "      <td>Missouri</td>\n",
       "      <td>48</td>\n",
       "      <td>3</td>\n",
       "      <td>married</td>\n",
       "      <td>165665</td>\n",
       "      <td>7</td>\n",
       "      <td>New customer</td>\n",
       "      <td>Low spender</td>\n",
       "      <td>Regular customer</td>\n",
       "      <td>...</td>\n",
       "      <td>4.3</td>\n",
       "      <td>Low-range product</td>\n",
       "      <td>Regularly busy</td>\n",
       "      <td>Most orders</td>\n",
       "      <td>Midwest</td>\n",
       "      <td>produce</td>\n",
       "      <td>Old Adults</td>\n",
       "      <td>Upper Income</td>\n",
       "      <td>Parent</td>\n",
       "      <td>Married older parent</td>\n",
       "    </tr>\n",
       "  </tbody>\n",
       "</table>\n",
       "<p>5 rows × 24 columns</p>\n",
       "</div>"
      ],
      "text/plain": [
       "    gender     state  age  number_of_dependents marital_status  income  \\\n",
       "1   Female  Missouri   48                     3        married  165665   \n",
       "7   Female  Missouri   48                     3        married  165665   \n",
       "9   Female  Missouri   48                     3        married  165665   \n",
       "13  Female  Missouri   48                     3        married  165665   \n",
       "14  Female  Missouri   48                     3        married  165665   \n",
       "\n",
       "    order_number  loyalty_flag spending_flag order_frequency_flag  ... prices  \\\n",
       "1              7  New customer   Low spender     Regular customer  ...    9.0   \n",
       "7              7  New customer   Low spender     Regular customer  ...   12.6   \n",
       "9              1  New customer   Low spender     Regular customer  ...    4.3   \n",
       "13             6  New customer   Low spender     Regular customer  ...    4.3   \n",
       "14             7  New customer   Low spender     Regular customer  ...    4.3   \n",
       "\n",
       "      price_range_loc     busiest_day  busiest_period_of_day   region  \\\n",
       "1   Mid-range product  Regularly busy            Most orders  Midwest   \n",
       "7   Mid-range product  Regularly busy            Most orders  Midwest   \n",
       "9   Low-range product  Regularly busy            Most orders  Midwest   \n",
       "13  Low-range product    Busiest days         Average orders  Midwest   \n",
       "14  Low-range product  Regularly busy            Most orders  Midwest   \n",
       "\n",
       "    department   age_group  income_group dependents_group  \\\n",
       "1    beverages  Old Adults  Upper Income           Parent   \n",
       "7   dairy eggs  Old Adults  Upper Income           Parent   \n",
       "9      produce  Old Adults  Upper Income           Parent   \n",
       "13     produce  Old Adults  Upper Income           Parent   \n",
       "14     produce  Old Adults  Upper Income           Parent   \n",
       "\n",
       "        customer_profile  \n",
       "1   Married older parent  \n",
       "7   Married older parent  \n",
       "9   Married older parent  \n",
       "13  Married older parent  \n",
       "14  Married older parent  \n",
       "\n",
       "[5 rows x 24 columns]"
      ]
     },
     "execution_count": 69,
     "metadata": {},
     "output_type": "execute_result"
    }
   ],
   "source": [
    "# Check df output\n",
    "\n",
    "df_final_subset.head()"
   ]
  },
  {
   "cell_type": "code",
   "execution_count": 70,
   "id": "507f521b",
   "metadata": {},
   "outputs": [
    {
     "name": "stderr",
     "output_type": "stream",
     "text": [
      "C:\\Users\\jomok\\AppData\\Local\\Temp\\ipykernel_17796\\225112916.py:3: SettingWithCopyWarning: \n",
      "A value is trying to be set on a copy of a slice from a DataFrame.\n",
      "Try using .loc[row_indexer,col_indexer] = value instead\n",
      "\n",
      "See the caveats in the documentation: https://pandas.pydata.org/pandas-docs/stable/user_guide/indexing.html#returning-a-view-versus-a-copy\n",
      "  df_final_subset.loc[(df_final_subset['marital_status'] != 'married') & (df_final_subset['income_group'] == 'Low Income') & (df_final_subset['number_of_dependents'] >0), 'customer_income_profile'] = 'Low income single parent'\n"
     ]
    }
   ],
   "source": [
    "# Assign customer income profile group\n",
    "\n",
    "df_final_subset.loc[(df_final_subset['marital_status'] != 'married') & (df_final_subset['income_group'] == 'Low Income') & (df_final_subset['number_of_dependents'] >0), 'customer_income_profile'] = 'Low income single parent'"
   ]
  },
  {
   "cell_type": "code",
   "execution_count": 71,
   "id": "d141b0c2",
   "metadata": {},
   "outputs": [],
   "source": [
    "df_final_subset.loc[(df_final_subset['marital_status'] != 'married') & (df_final_subset['income_group'] == 'Middle Income') & (df_final_subset['number_of_dependents'] >0), 'customer_income_profile'] = 'Middle income single parent'"
   ]
  },
  {
   "cell_type": "code",
   "execution_count": 72,
   "id": "de64c425",
   "metadata": {},
   "outputs": [],
   "source": [
    "df_final_subset.loc[(df_final_subset['marital_status'] != 'married') & (df_final_subset['income_group'] == 'Upper Income') & (df_final_subset['number_of_dependents'] >0), 'customer_income_profile'] = 'Upper income single parent'"
   ]
  },
  {
   "cell_type": "code",
   "execution_count": 73,
   "id": "6d3ddfb9",
   "metadata": {},
   "outputs": [],
   "source": [
    "df_final_subset.loc[(df_final_subset['marital_status'] != 'married')  & (df_final_subset['income_group'] == 'Low Income') & (df_final_subset['gender'] == 'Female') & (df_final_subset['number_of_dependents'] ==0), 'customer_income_profile'] = 'Low income single female without children'"
   ]
  },
  {
   "cell_type": "code",
   "execution_count": 74,
   "id": "c42fa190",
   "metadata": {},
   "outputs": [],
   "source": [
    "df_final_subset.loc[(df_final_subset['marital_status'] != 'married')  & (df_final_subset['income_group'] == 'Middle Income') & (df_final_subset['gender'] == 'Female') & (df_final_subset['number_of_dependents'] ==0), 'customer_income_profile'] = 'Middle income single female without children'"
   ]
  },
  {
   "cell_type": "code",
   "execution_count": 75,
   "id": "0a283c5e",
   "metadata": {},
   "outputs": [],
   "source": [
    "df_final_subset.loc[(df_final_subset['marital_status'] != 'married')  & (df_final_subset['income_group'] == 'Upper Income') & (df_final_subset['gender'] == 'Female') & (df_final_subset['number_of_dependents'] ==0), 'customer_income_profile'] = 'Upper income single female without children'"
   ]
  },
  {
   "cell_type": "code",
   "execution_count": 76,
   "id": "59cbf039",
   "metadata": {},
   "outputs": [],
   "source": [
    "df_final_subset.loc[(df_final_subset['marital_status'] != 'married')  & (df_final_subset['income_group'] == 'Low Income')  & (df_final_subset['gender'] == 'Male') & (df_final_subset['number_of_dependents'] ==0), 'customer_income_profile'] = 'Low income single male without children'"
   ]
  },
  {
   "cell_type": "code",
   "execution_count": 77,
   "id": "96b0a5ab",
   "metadata": {},
   "outputs": [],
   "source": [
    "df_final_subset.loc[(df_final_subset['marital_status'] != 'married')  & (df_final_subset['income_group'] == 'Middle Income')  & (df_final_subset['gender'] == 'Male') & (df_final_subset['number_of_dependents'] ==0), 'customer_income_profile'] = 'Middle income single male without children'"
   ]
  },
  {
   "cell_type": "code",
   "execution_count": 78,
   "id": "e8ae0eb0",
   "metadata": {},
   "outputs": [],
   "source": [
    "df_final_subset.loc[(df_final_subset['marital_status'] != 'married')  & (df_final_subset['income_group'] == 'Upper Income')  & (df_final_subset['gender'] == 'Male') & (df_final_subset['number_of_dependents'] ==0), 'customer_income_profile'] = 'Upper income single male without children'"
   ]
  },
  {
   "cell_type": "code",
   "execution_count": 79,
   "id": "b8be992e",
   "metadata": {},
   "outputs": [],
   "source": [
    "df_final_subset.loc[(df_final_subset['age'] < 30) & (df_final_subset['marital_status'] == 'married') & (df_final_subset['income_group'] == 'Low Income')  & (df_final_subset['number_of_dependents'] >0), 'customer_income_profile'] = 'Low income married young parent'"
   ]
  },
  {
   "cell_type": "code",
   "execution_count": 80,
   "id": "c61069c6",
   "metadata": {},
   "outputs": [],
   "source": [
    "df_final_subset.loc[(df_final_subset['age'] < 30) & (df_final_subset['marital_status'] == 'married') & (df_final_subset['income_group'] == 'Middle Income')  & (df_final_subset['number_of_dependents'] >0), 'customer_income_profile'] = 'Middle income married young parent'"
   ]
  },
  {
   "cell_type": "code",
   "execution_count": 81,
   "id": "c7404eff",
   "metadata": {},
   "outputs": [],
   "source": [
    "df_final_subset.loc[(df_final_subset['age'] < 30) & (df_final_subset['marital_status'] == 'married') & (df_final_subset['income_group'] == 'Upper Income')  & (df_final_subset['number_of_dependents'] >0), 'customer_income_profile'] = 'Upper income married young parent'"
   ]
  },
  {
   "cell_type": "code",
   "execution_count": 82,
   "id": "4c4bb1ea",
   "metadata": {},
   "outputs": [],
   "source": [
    "df_final_subset.loc[(df_final_subset['age'] >= 30) & (df_final_subset['marital_status'] == 'married') & (df_final_subset['income_group'] == 'Low Income') & (df_final_subset['number_of_dependents'] >0), 'customer_income_profile'] = 'Low income married older parent'"
   ]
  },
  {
   "cell_type": "code",
   "execution_count": 83,
   "id": "378a008b",
   "metadata": {},
   "outputs": [],
   "source": [
    "df_final_subset.loc[(df_final_subset['age'] >= 30) & (df_final_subset['marital_status'] == 'married') & (df_final_subset['income_group'] == 'Middle Income') & (df_final_subset['number_of_dependents'] >0), 'customer_income_profile'] = 'Middle income married older parent'"
   ]
  },
  {
   "cell_type": "code",
   "execution_count": 84,
   "id": "fd80d91b",
   "metadata": {},
   "outputs": [],
   "source": [
    "df_final_subset.loc[(df_final_subset['age'] >= 30) & (df_final_subset['marital_status'] == 'married') & (df_final_subset['income_group'] == 'Upper Income') & (df_final_subset['number_of_dependents'] >0), 'customer_income_profile'] = 'Upper income married older parent'"
   ]
  },
  {
   "cell_type": "code",
   "execution_count": 85,
   "id": "9506aeff",
   "metadata": {},
   "outputs": [],
   "source": [
    "df_final_subset.loc[(df_final_subset['marital_status'] == 'married') & (df_final_subset['income_group'] == 'Low Income')& (df_final_subset['number_of_dependents'] ==0), 'customer_income_profile'] = 'Low income married without children'"
   ]
  },
  {
   "cell_type": "code",
   "execution_count": 86,
   "id": "b6adceee",
   "metadata": {},
   "outputs": [],
   "source": [
    "df_final_subset.loc[(df_final_subset['marital_status'] == 'married') & (df_final_subset['income_group'] == 'Middle Income')& (df_final_subset['number_of_dependents'] ==0), 'customer_income_profile'] = 'Middle income married without children'"
   ]
  },
  {
   "cell_type": "code",
   "execution_count": 87,
   "id": "5c4a7540",
   "metadata": {},
   "outputs": [],
   "source": [
    "df_final_subset.loc[(df_final_subset['marital_status'] == 'married') & (df_final_subset['income_group'] == 'Upper Income')& (df_final_subset['number_of_dependents'] ==0), 'customer_income_profile'] = 'Upper income married without children'"
   ]
  },
  {
   "cell_type": "code",
   "execution_count": 88,
   "id": "daafcffc",
   "metadata": {},
   "outputs": [
    {
     "data": {
      "text/plain": [
       "Middle income married older parent              3816456\n",
       "Upper income married older parent               1712741\n",
       "Middle income single male without children       837850\n",
       "Middle income single female without children     829902\n",
       "Middle income married young parent               804910\n",
       "Middle income single parent                      416176\n",
       "Low income married older parent                  388441\n",
       "Upper income single female without children      292895\n",
       "Upper income single male without children        292878\n",
       "Low income married young parent                   91816\n",
       "Low income single male without children           87081\n",
       "Low income single female without children         86772\n",
       "Low income single parent                          43028\n",
       "Upper income married young parent                 10717\n",
       "Upper income single parent                         5365\n",
       "Name: customer_income_profile, dtype: int64"
      ]
     },
     "execution_count": 88,
     "metadata": {},
     "output_type": "execute_result"
    }
   ],
   "source": [
    "# Check frequency \n",
    "\n",
    "df_final_subset['customer_income_profile'].value_counts(dropna=False)"
   ]
  },
  {
   "cell_type": "code",
   "execution_count": 89,
   "id": "a882065d",
   "metadata": {},
   "outputs": [
    {
     "data": {
      "text/plain": [
       "(9717028,)"
      ]
     },
     "execution_count": 89,
     "metadata": {},
     "output_type": "execute_result"
    }
   ],
   "source": [
    "# Check shape \n",
    "\n",
    "df_final_subset['customer_income_profile'].shape"
   ]
  },
  {
   "cell_type": "code",
   "execution_count": 90,
   "id": "b13a6bf8",
   "metadata": {},
   "outputs": [
    {
     "data": {
      "text/html": [
       "<div>\n",
       "<style scoped>\n",
       "    .dataframe tbody tr th:only-of-type {\n",
       "        vertical-align: middle;\n",
       "    }\n",
       "\n",
       "    .dataframe tbody tr th {\n",
       "        vertical-align: top;\n",
       "    }\n",
       "\n",
       "    .dataframe thead th {\n",
       "        text-align: right;\n",
       "    }\n",
       "</style>\n",
       "<table border=\"1\" class=\"dataframe\">\n",
       "  <thead>\n",
       "    <tr style=\"text-align: right;\">\n",
       "      <th></th>\n",
       "      <th>gender</th>\n",
       "      <th>state</th>\n",
       "      <th>age</th>\n",
       "      <th>number_of_dependents</th>\n",
       "      <th>marital_status</th>\n",
       "      <th>income</th>\n",
       "      <th>order_number</th>\n",
       "      <th>loyalty_flag</th>\n",
       "      <th>spending_flag</th>\n",
       "      <th>order_frequency_flag</th>\n",
       "      <th>...</th>\n",
       "      <th>price_range_loc</th>\n",
       "      <th>busiest_day</th>\n",
       "      <th>busiest_period_of_day</th>\n",
       "      <th>region</th>\n",
       "      <th>department</th>\n",
       "      <th>age_group</th>\n",
       "      <th>income_group</th>\n",
       "      <th>dependents_group</th>\n",
       "      <th>customer_profile</th>\n",
       "      <th>customer_income_profile</th>\n",
       "    </tr>\n",
       "  </thead>\n",
       "  <tbody>\n",
       "    <tr>\n",
       "      <th>1</th>\n",
       "      <td>Female</td>\n",
       "      <td>Missouri</td>\n",
       "      <td>48</td>\n",
       "      <td>3</td>\n",
       "      <td>married</td>\n",
       "      <td>165665</td>\n",
       "      <td>7</td>\n",
       "      <td>New customer</td>\n",
       "      <td>Low spender</td>\n",
       "      <td>Regular customer</td>\n",
       "      <td>...</td>\n",
       "      <td>Mid-range product</td>\n",
       "      <td>Regularly busy</td>\n",
       "      <td>Most orders</td>\n",
       "      <td>Midwest</td>\n",
       "      <td>beverages</td>\n",
       "      <td>Old Adults</td>\n",
       "      <td>Upper Income</td>\n",
       "      <td>Parent</td>\n",
       "      <td>Married older parent</td>\n",
       "      <td>Upper income married older parent</td>\n",
       "    </tr>\n",
       "    <tr>\n",
       "      <th>7</th>\n",
       "      <td>Female</td>\n",
       "      <td>Missouri</td>\n",
       "      <td>48</td>\n",
       "      <td>3</td>\n",
       "      <td>married</td>\n",
       "      <td>165665</td>\n",
       "      <td>7</td>\n",
       "      <td>New customer</td>\n",
       "      <td>Low spender</td>\n",
       "      <td>Regular customer</td>\n",
       "      <td>...</td>\n",
       "      <td>Mid-range product</td>\n",
       "      <td>Regularly busy</td>\n",
       "      <td>Most orders</td>\n",
       "      <td>Midwest</td>\n",
       "      <td>dairy eggs</td>\n",
       "      <td>Old Adults</td>\n",
       "      <td>Upper Income</td>\n",
       "      <td>Parent</td>\n",
       "      <td>Married older parent</td>\n",
       "      <td>Upper income married older parent</td>\n",
       "    </tr>\n",
       "    <tr>\n",
       "      <th>9</th>\n",
       "      <td>Female</td>\n",
       "      <td>Missouri</td>\n",
       "      <td>48</td>\n",
       "      <td>3</td>\n",
       "      <td>married</td>\n",
       "      <td>165665</td>\n",
       "      <td>1</td>\n",
       "      <td>New customer</td>\n",
       "      <td>Low spender</td>\n",
       "      <td>Regular customer</td>\n",
       "      <td>...</td>\n",
       "      <td>Low-range product</td>\n",
       "      <td>Regularly busy</td>\n",
       "      <td>Most orders</td>\n",
       "      <td>Midwest</td>\n",
       "      <td>produce</td>\n",
       "      <td>Old Adults</td>\n",
       "      <td>Upper Income</td>\n",
       "      <td>Parent</td>\n",
       "      <td>Married older parent</td>\n",
       "      <td>Upper income married older parent</td>\n",
       "    </tr>\n",
       "    <tr>\n",
       "      <th>13</th>\n",
       "      <td>Female</td>\n",
       "      <td>Missouri</td>\n",
       "      <td>48</td>\n",
       "      <td>3</td>\n",
       "      <td>married</td>\n",
       "      <td>165665</td>\n",
       "      <td>6</td>\n",
       "      <td>New customer</td>\n",
       "      <td>Low spender</td>\n",
       "      <td>Regular customer</td>\n",
       "      <td>...</td>\n",
       "      <td>Low-range product</td>\n",
       "      <td>Busiest days</td>\n",
       "      <td>Average orders</td>\n",
       "      <td>Midwest</td>\n",
       "      <td>produce</td>\n",
       "      <td>Old Adults</td>\n",
       "      <td>Upper Income</td>\n",
       "      <td>Parent</td>\n",
       "      <td>Married older parent</td>\n",
       "      <td>Upper income married older parent</td>\n",
       "    </tr>\n",
       "    <tr>\n",
       "      <th>14</th>\n",
       "      <td>Female</td>\n",
       "      <td>Missouri</td>\n",
       "      <td>48</td>\n",
       "      <td>3</td>\n",
       "      <td>married</td>\n",
       "      <td>165665</td>\n",
       "      <td>7</td>\n",
       "      <td>New customer</td>\n",
       "      <td>Low spender</td>\n",
       "      <td>Regular customer</td>\n",
       "      <td>...</td>\n",
       "      <td>Low-range product</td>\n",
       "      <td>Regularly busy</td>\n",
       "      <td>Most orders</td>\n",
       "      <td>Midwest</td>\n",
       "      <td>produce</td>\n",
       "      <td>Old Adults</td>\n",
       "      <td>Upper Income</td>\n",
       "      <td>Parent</td>\n",
       "      <td>Married older parent</td>\n",
       "      <td>Upper income married older parent</td>\n",
       "    </tr>\n",
       "  </tbody>\n",
       "</table>\n",
       "<p>5 rows × 25 columns</p>\n",
       "</div>"
      ],
      "text/plain": [
       "    gender     state  age  number_of_dependents marital_status  income  \\\n",
       "1   Female  Missouri   48                     3        married  165665   \n",
       "7   Female  Missouri   48                     3        married  165665   \n",
       "9   Female  Missouri   48                     3        married  165665   \n",
       "13  Female  Missouri   48                     3        married  165665   \n",
       "14  Female  Missouri   48                     3        married  165665   \n",
       "\n",
       "    order_number  loyalty_flag spending_flag order_frequency_flag  ...  \\\n",
       "1              7  New customer   Low spender     Regular customer  ...   \n",
       "7              7  New customer   Low spender     Regular customer  ...   \n",
       "9              1  New customer   Low spender     Regular customer  ...   \n",
       "13             6  New customer   Low spender     Regular customer  ...   \n",
       "14             7  New customer   Low spender     Regular customer  ...   \n",
       "\n",
       "      price_range_loc     busiest_day  busiest_period_of_day   region  \\\n",
       "1   Mid-range product  Regularly busy            Most orders  Midwest   \n",
       "7   Mid-range product  Regularly busy            Most orders  Midwest   \n",
       "9   Low-range product  Regularly busy            Most orders  Midwest   \n",
       "13  Low-range product    Busiest days         Average orders  Midwest   \n",
       "14  Low-range product  Regularly busy            Most orders  Midwest   \n",
       "\n",
       "    department   age_group  income_group dependents_group  \\\n",
       "1    beverages  Old Adults  Upper Income           Parent   \n",
       "7   dairy eggs  Old Adults  Upper Income           Parent   \n",
       "9      produce  Old Adults  Upper Income           Parent   \n",
       "13     produce  Old Adults  Upper Income           Parent   \n",
       "14     produce  Old Adults  Upper Income           Parent   \n",
       "\n",
       "        customer_profile            customer_income_profile  \n",
       "1   Married older parent  Upper income married older parent  \n",
       "7   Married older parent  Upper income married older parent  \n",
       "9   Married older parent  Upper income married older parent  \n",
       "13  Married older parent  Upper income married older parent  \n",
       "14  Married older parent  Upper income married older parent  \n",
       "\n",
       "[5 rows x 25 columns]"
      ]
     },
     "execution_count": 90,
     "metadata": {},
     "output_type": "execute_result"
    }
   ],
   "source": [
    "# Check df output\n",
    "\n",
    "df_final_subset.head()"
   ]
  },
  {
   "cell_type": "markdown",
   "id": "cceeff0c",
   "metadata": {},
   "source": [
    "## 8. Assign hourly groups"
   ]
  },
  {
   "cell_type": "code",
   "execution_count": 91,
   "id": "abcd8430",
   "metadata": {},
   "outputs": [
    {
     "name": "stderr",
     "output_type": "stream",
     "text": [
      "C:\\Users\\jomok\\AppData\\Local\\Temp\\ipykernel_17796\\922373287.py:1: SettingWithCopyWarning: \n",
      "A value is trying to be set on a copy of a slice from a DataFrame.\n",
      "Try using .loc[row_indexer,col_indexer] = value instead\n",
      "\n",
      "See the caveats in the documentation: https://pandas.pydata.org/pandas-docs/stable/user_guide/indexing.html#returning-a-view-versus-a-copy\n",
      "  df_final_subset.loc[(df_final_subset['order_hour_of_day'] >= 0) & (df_final_subset['order_hour_of_day'] <8), 'time_period'] = 'Before 8am'\n"
     ]
    }
   ],
   "source": [
    "df_final_subset.loc[(df_final_subset['order_hour_of_day'] >= 0) & (df_final_subset['order_hour_of_day'] <8), 'time_period'] = 'Before 8am'"
   ]
  },
  {
   "cell_type": "code",
   "execution_count": 92,
   "id": "a8b35a40",
   "metadata": {},
   "outputs": [],
   "source": [
    "df_final_subset.loc[(df_final_subset['order_hour_of_day'] >= 8) & (df_final_subset['order_hour_of_day'] <=17), 'time_period'] = 'Between 8am and 5pm'"
   ]
  },
  {
   "cell_type": "code",
   "execution_count": 93,
   "id": "872b7801",
   "metadata": {},
   "outputs": [],
   "source": [
    "df_final_subset.loc[(df_final_subset['order_hour_of_day'] > 17), 'time_period'] = 'After 5pm'"
   ]
  },
  {
   "cell_type": "code",
   "execution_count": 94,
   "id": "c40aa829",
   "metadata": {},
   "outputs": [
    {
     "data": {
      "text/plain": [
       "Between 8am and 5pm    7472963\n",
       "After 5pm              1710301\n",
       "Before 8am              533764\n",
       "Name: time_period, dtype: int64"
      ]
     },
     "execution_count": 94,
     "metadata": {},
     "output_type": "execute_result"
    }
   ],
   "source": [
    "# Check frequency \n",
    "\n",
    "df_final_subset['time_period'].value_counts(dropna=False)"
   ]
  },
  {
   "cell_type": "code",
   "execution_count": 95,
   "id": "b8dd0ede",
   "metadata": {},
   "outputs": [
    {
     "data": {
      "text/plain": [
       "(9717028,)"
      ]
     },
     "execution_count": 95,
     "metadata": {},
     "output_type": "execute_result"
    }
   ],
   "source": [
    "# Check shape \n",
    "\n",
    "df_final_subset['time_period'].shape"
   ]
  },
  {
   "cell_type": "code",
   "execution_count": 96,
   "id": "400a7562",
   "metadata": {},
   "outputs": [
    {
     "data": {
      "text/html": [
       "<div>\n",
       "<style scoped>\n",
       "    .dataframe tbody tr th:only-of-type {\n",
       "        vertical-align: middle;\n",
       "    }\n",
       "\n",
       "    .dataframe tbody tr th {\n",
       "        vertical-align: top;\n",
       "    }\n",
       "\n",
       "    .dataframe thead th {\n",
       "        text-align: right;\n",
       "    }\n",
       "</style>\n",
       "<table border=\"1\" class=\"dataframe\">\n",
       "  <thead>\n",
       "    <tr style=\"text-align: right;\">\n",
       "      <th></th>\n",
       "      <th>gender</th>\n",
       "      <th>state</th>\n",
       "      <th>age</th>\n",
       "      <th>number_of_dependents</th>\n",
       "      <th>marital_status</th>\n",
       "      <th>income</th>\n",
       "      <th>order_number</th>\n",
       "      <th>loyalty_flag</th>\n",
       "      <th>spending_flag</th>\n",
       "      <th>order_frequency_flag</th>\n",
       "      <th>...</th>\n",
       "      <th>busiest_day</th>\n",
       "      <th>busiest_period_of_day</th>\n",
       "      <th>region</th>\n",
       "      <th>department</th>\n",
       "      <th>age_group</th>\n",
       "      <th>income_group</th>\n",
       "      <th>dependents_group</th>\n",
       "      <th>customer_profile</th>\n",
       "      <th>customer_income_profile</th>\n",
       "      <th>time_period</th>\n",
       "    </tr>\n",
       "  </thead>\n",
       "  <tbody>\n",
       "    <tr>\n",
       "      <th>1</th>\n",
       "      <td>Female</td>\n",
       "      <td>Missouri</td>\n",
       "      <td>48</td>\n",
       "      <td>3</td>\n",
       "      <td>married</td>\n",
       "      <td>165665</td>\n",
       "      <td>7</td>\n",
       "      <td>New customer</td>\n",
       "      <td>Low spender</td>\n",
       "      <td>Regular customer</td>\n",
       "      <td>...</td>\n",
       "      <td>Regularly busy</td>\n",
       "      <td>Most orders</td>\n",
       "      <td>Midwest</td>\n",
       "      <td>beverages</td>\n",
       "      <td>Old Adults</td>\n",
       "      <td>Upper Income</td>\n",
       "      <td>Parent</td>\n",
       "      <td>Married older parent</td>\n",
       "      <td>Upper income married older parent</td>\n",
       "      <td>Between 8am and 5pm</td>\n",
       "    </tr>\n",
       "    <tr>\n",
       "      <th>7</th>\n",
       "      <td>Female</td>\n",
       "      <td>Missouri</td>\n",
       "      <td>48</td>\n",
       "      <td>3</td>\n",
       "      <td>married</td>\n",
       "      <td>165665</td>\n",
       "      <td>7</td>\n",
       "      <td>New customer</td>\n",
       "      <td>Low spender</td>\n",
       "      <td>Regular customer</td>\n",
       "      <td>...</td>\n",
       "      <td>Regularly busy</td>\n",
       "      <td>Most orders</td>\n",
       "      <td>Midwest</td>\n",
       "      <td>dairy eggs</td>\n",
       "      <td>Old Adults</td>\n",
       "      <td>Upper Income</td>\n",
       "      <td>Parent</td>\n",
       "      <td>Married older parent</td>\n",
       "      <td>Upper income married older parent</td>\n",
       "      <td>Between 8am and 5pm</td>\n",
       "    </tr>\n",
       "    <tr>\n",
       "      <th>9</th>\n",
       "      <td>Female</td>\n",
       "      <td>Missouri</td>\n",
       "      <td>48</td>\n",
       "      <td>3</td>\n",
       "      <td>married</td>\n",
       "      <td>165665</td>\n",
       "      <td>1</td>\n",
       "      <td>New customer</td>\n",
       "      <td>Low spender</td>\n",
       "      <td>Regular customer</td>\n",
       "      <td>...</td>\n",
       "      <td>Regularly busy</td>\n",
       "      <td>Most orders</td>\n",
       "      <td>Midwest</td>\n",
       "      <td>produce</td>\n",
       "      <td>Old Adults</td>\n",
       "      <td>Upper Income</td>\n",
       "      <td>Parent</td>\n",
       "      <td>Married older parent</td>\n",
       "      <td>Upper income married older parent</td>\n",
       "      <td>Between 8am and 5pm</td>\n",
       "    </tr>\n",
       "    <tr>\n",
       "      <th>13</th>\n",
       "      <td>Female</td>\n",
       "      <td>Missouri</td>\n",
       "      <td>48</td>\n",
       "      <td>3</td>\n",
       "      <td>married</td>\n",
       "      <td>165665</td>\n",
       "      <td>6</td>\n",
       "      <td>New customer</td>\n",
       "      <td>Low spender</td>\n",
       "      <td>Regular customer</td>\n",
       "      <td>...</td>\n",
       "      <td>Busiest days</td>\n",
       "      <td>Average orders</td>\n",
       "      <td>Midwest</td>\n",
       "      <td>produce</td>\n",
       "      <td>Old Adults</td>\n",
       "      <td>Upper Income</td>\n",
       "      <td>Parent</td>\n",
       "      <td>Married older parent</td>\n",
       "      <td>Upper income married older parent</td>\n",
       "      <td>Between 8am and 5pm</td>\n",
       "    </tr>\n",
       "    <tr>\n",
       "      <th>14</th>\n",
       "      <td>Female</td>\n",
       "      <td>Missouri</td>\n",
       "      <td>48</td>\n",
       "      <td>3</td>\n",
       "      <td>married</td>\n",
       "      <td>165665</td>\n",
       "      <td>7</td>\n",
       "      <td>New customer</td>\n",
       "      <td>Low spender</td>\n",
       "      <td>Regular customer</td>\n",
       "      <td>...</td>\n",
       "      <td>Regularly busy</td>\n",
       "      <td>Most orders</td>\n",
       "      <td>Midwest</td>\n",
       "      <td>produce</td>\n",
       "      <td>Old Adults</td>\n",
       "      <td>Upper Income</td>\n",
       "      <td>Parent</td>\n",
       "      <td>Married older parent</td>\n",
       "      <td>Upper income married older parent</td>\n",
       "      <td>Between 8am and 5pm</td>\n",
       "    </tr>\n",
       "  </tbody>\n",
       "</table>\n",
       "<p>5 rows × 26 columns</p>\n",
       "</div>"
      ],
      "text/plain": [
       "    gender     state  age  number_of_dependents marital_status  income  \\\n",
       "1   Female  Missouri   48                     3        married  165665   \n",
       "7   Female  Missouri   48                     3        married  165665   \n",
       "9   Female  Missouri   48                     3        married  165665   \n",
       "13  Female  Missouri   48                     3        married  165665   \n",
       "14  Female  Missouri   48                     3        married  165665   \n",
       "\n",
       "    order_number  loyalty_flag spending_flag order_frequency_flag  ...  \\\n",
       "1              7  New customer   Low spender     Regular customer  ...   \n",
       "7              7  New customer   Low spender     Regular customer  ...   \n",
       "9              1  New customer   Low spender     Regular customer  ...   \n",
       "13             6  New customer   Low spender     Regular customer  ...   \n",
       "14             7  New customer   Low spender     Regular customer  ...   \n",
       "\n",
       "       busiest_day  busiest_period_of_day   region  department   age_group  \\\n",
       "1   Regularly busy            Most orders  Midwest   beverages  Old Adults   \n",
       "7   Regularly busy            Most orders  Midwest  dairy eggs  Old Adults   \n",
       "9   Regularly busy            Most orders  Midwest     produce  Old Adults   \n",
       "13    Busiest days         Average orders  Midwest     produce  Old Adults   \n",
       "14  Regularly busy            Most orders  Midwest     produce  Old Adults   \n",
       "\n",
       "    income_group dependents_group      customer_profile  \\\n",
       "1   Upper Income           Parent  Married older parent   \n",
       "7   Upper Income           Parent  Married older parent   \n",
       "9   Upper Income           Parent  Married older parent   \n",
       "13  Upper Income           Parent  Married older parent   \n",
       "14  Upper Income           Parent  Married older parent   \n",
       "\n",
       "              customer_income_profile          time_period  \n",
       "1   Upper income married older parent  Between 8am and 5pm  \n",
       "7   Upper income married older parent  Between 8am and 5pm  \n",
       "9   Upper income married older parent  Between 8am and 5pm  \n",
       "13  Upper income married older parent  Between 8am and 5pm  \n",
       "14  Upper income married older parent  Between 8am and 5pm  \n",
       "\n",
       "[5 rows x 26 columns]"
      ]
     },
     "execution_count": 96,
     "metadata": {},
     "output_type": "execute_result"
    }
   ],
   "source": [
    "# Check output\n",
    "\n",
    "df_final_subset.head()"
   ]
  },
  {
   "cell_type": "markdown",
   "id": "b41515b9",
   "metadata": {},
   "source": [
    "## 9. Assign days"
   ]
  },
  {
   "cell_type": "code",
   "execution_count": 97,
   "id": "c1d68dae",
   "metadata": {},
   "outputs": [
    {
     "name": "stderr",
     "output_type": "stream",
     "text": [
      "C:\\Users\\jomok\\AppData\\Local\\Temp\\ipykernel_17796\\2111237723.py:3: SettingWithCopyWarning: \n",
      "A value is trying to be set on a copy of a slice from a DataFrame.\n",
      "Try using .loc[row_indexer,col_indexer] = value instead\n",
      "\n",
      "See the caveats in the documentation: https://pandas.pydata.org/pandas-docs/stable/user_guide/indexing.html#returning-a-view-versus-a-copy\n",
      "  df_final_subset.loc[df_final_subset['order_day_of_week'] == 0, 'day'] = 'Saturday'\n"
     ]
    }
   ],
   "source": [
    "# Assign day values using order_day_of_week column\n",
    "\n",
    "df_final_subset.loc[df_final_subset['order_day_of_week'] == 0, 'day'] = 'Saturday'"
   ]
  },
  {
   "cell_type": "code",
   "execution_count": 98,
   "id": "d36a3bb2",
   "metadata": {},
   "outputs": [],
   "source": [
    "df_final_subset.loc[df_final_subset['order_day_of_week'] == 1, 'day'] = 'Sunday'"
   ]
  },
  {
   "cell_type": "code",
   "execution_count": 99,
   "id": "01f8824e",
   "metadata": {},
   "outputs": [],
   "source": [
    "df_final_subset.loc[df_final_subset['order_day_of_week'] == 2, 'day'] = 'Monday'"
   ]
  },
  {
   "cell_type": "code",
   "execution_count": 100,
   "id": "6ba20998",
   "metadata": {},
   "outputs": [],
   "source": [
    "df_final_subset.loc[df_final_subset['order_day_of_week'] == 3, 'day'] = 'Tuesday'"
   ]
  },
  {
   "cell_type": "code",
   "execution_count": 101,
   "id": "0ba87698",
   "metadata": {},
   "outputs": [],
   "source": [
    "df_final_subset.loc[df_final_subset['order_day_of_week'] == 4, 'day'] = 'Wednesday'"
   ]
  },
  {
   "cell_type": "code",
   "execution_count": 103,
   "id": "add9ef46",
   "metadata": {},
   "outputs": [],
   "source": [
    "df_final_subset.loc[df_final_subset['order_day_of_week'] == 5, 'day'] = 'Thursday'"
   ]
  },
  {
   "cell_type": "code",
   "execution_count": 104,
   "id": "b429f335",
   "metadata": {},
   "outputs": [],
   "source": [
    "df_final_subset.loc[df_final_subset['order_day_of_week'] == 6, 'day'] = 'Friday'"
   ]
  },
  {
   "cell_type": "code",
   "execution_count": 105,
   "id": "e66a2ff2",
   "metadata": {},
   "outputs": [
    {
     "data": {
      "text/plain": [
       "Saturday     1861925\n",
       "Sunday       1697135\n",
       "Friday       1347050\n",
       "Monday       1263934\n",
       "Thursday     1261544\n",
       "Tuesday      1150767\n",
       "Wednesday    1134673\n",
       "Name: day, dtype: int64"
      ]
     },
     "execution_count": 105,
     "metadata": {},
     "output_type": "execute_result"
    }
   ],
   "source": [
    "# Check frequency \n",
    "\n",
    "df_final_subset['day'].value_counts(dropna=False)"
   ]
  },
  {
   "cell_type": "code",
   "execution_count": 106,
   "id": "4328fc1a",
   "metadata": {},
   "outputs": [
    {
     "data": {
      "text/plain": [
       "(9717028,)"
      ]
     },
     "execution_count": 106,
     "metadata": {},
     "output_type": "execute_result"
    }
   ],
   "source": [
    "# Check shape \n",
    "\n",
    "df_final_subset['day'].shape"
   ]
  },
  {
   "cell_type": "code",
   "execution_count": 107,
   "id": "490ab329",
   "metadata": {},
   "outputs": [
    {
     "data": {
      "text/html": [
       "<div>\n",
       "<style scoped>\n",
       "    .dataframe tbody tr th:only-of-type {\n",
       "        vertical-align: middle;\n",
       "    }\n",
       "\n",
       "    .dataframe tbody tr th {\n",
       "        vertical-align: top;\n",
       "    }\n",
       "\n",
       "    .dataframe thead th {\n",
       "        text-align: right;\n",
       "    }\n",
       "</style>\n",
       "<table border=\"1\" class=\"dataframe\">\n",
       "  <thead>\n",
       "    <tr style=\"text-align: right;\">\n",
       "      <th></th>\n",
       "      <th>gender</th>\n",
       "      <th>state</th>\n",
       "      <th>age</th>\n",
       "      <th>number_of_dependents</th>\n",
       "      <th>marital_status</th>\n",
       "      <th>income</th>\n",
       "      <th>order_number</th>\n",
       "      <th>loyalty_flag</th>\n",
       "      <th>spending_flag</th>\n",
       "      <th>order_frequency_flag</th>\n",
       "      <th>...</th>\n",
       "      <th>busiest_period_of_day</th>\n",
       "      <th>region</th>\n",
       "      <th>department</th>\n",
       "      <th>age_group</th>\n",
       "      <th>income_group</th>\n",
       "      <th>dependents_group</th>\n",
       "      <th>customer_profile</th>\n",
       "      <th>customer_income_profile</th>\n",
       "      <th>time_period</th>\n",
       "      <th>day</th>\n",
       "    </tr>\n",
       "  </thead>\n",
       "  <tbody>\n",
       "    <tr>\n",
       "      <th>1</th>\n",
       "      <td>Female</td>\n",
       "      <td>Missouri</td>\n",
       "      <td>48</td>\n",
       "      <td>3</td>\n",
       "      <td>married</td>\n",
       "      <td>165665</td>\n",
       "      <td>7</td>\n",
       "      <td>New customer</td>\n",
       "      <td>Low spender</td>\n",
       "      <td>Regular customer</td>\n",
       "      <td>...</td>\n",
       "      <td>Most orders</td>\n",
       "      <td>Midwest</td>\n",
       "      <td>beverages</td>\n",
       "      <td>Old Adults</td>\n",
       "      <td>Upper Income</td>\n",
       "      <td>Parent</td>\n",
       "      <td>Married older parent</td>\n",
       "      <td>Upper income married older parent</td>\n",
       "      <td>Between 8am and 5pm</td>\n",
       "      <td>Thursday</td>\n",
       "    </tr>\n",
       "    <tr>\n",
       "      <th>7</th>\n",
       "      <td>Female</td>\n",
       "      <td>Missouri</td>\n",
       "      <td>48</td>\n",
       "      <td>3</td>\n",
       "      <td>married</td>\n",
       "      <td>165665</td>\n",
       "      <td>7</td>\n",
       "      <td>New customer</td>\n",
       "      <td>Low spender</td>\n",
       "      <td>Regular customer</td>\n",
       "      <td>...</td>\n",
       "      <td>Most orders</td>\n",
       "      <td>Midwest</td>\n",
       "      <td>dairy eggs</td>\n",
       "      <td>Old Adults</td>\n",
       "      <td>Upper Income</td>\n",
       "      <td>Parent</td>\n",
       "      <td>Married older parent</td>\n",
       "      <td>Upper income married older parent</td>\n",
       "      <td>Between 8am and 5pm</td>\n",
       "      <td>Thursday</td>\n",
       "    </tr>\n",
       "    <tr>\n",
       "      <th>9</th>\n",
       "      <td>Female</td>\n",
       "      <td>Missouri</td>\n",
       "      <td>48</td>\n",
       "      <td>3</td>\n",
       "      <td>married</td>\n",
       "      <td>165665</td>\n",
       "      <td>1</td>\n",
       "      <td>New customer</td>\n",
       "      <td>Low spender</td>\n",
       "      <td>Regular customer</td>\n",
       "      <td>...</td>\n",
       "      <td>Most orders</td>\n",
       "      <td>Midwest</td>\n",
       "      <td>produce</td>\n",
       "      <td>Old Adults</td>\n",
       "      <td>Upper Income</td>\n",
       "      <td>Parent</td>\n",
       "      <td>Married older parent</td>\n",
       "      <td>Upper income married older parent</td>\n",
       "      <td>Between 8am and 5pm</td>\n",
       "      <td>Monday</td>\n",
       "    </tr>\n",
       "    <tr>\n",
       "      <th>13</th>\n",
       "      <td>Female</td>\n",
       "      <td>Missouri</td>\n",
       "      <td>48</td>\n",
       "      <td>3</td>\n",
       "      <td>married</td>\n",
       "      <td>165665</td>\n",
       "      <td>6</td>\n",
       "      <td>New customer</td>\n",
       "      <td>Low spender</td>\n",
       "      <td>Regular customer</td>\n",
       "      <td>...</td>\n",
       "      <td>Average orders</td>\n",
       "      <td>Midwest</td>\n",
       "      <td>produce</td>\n",
       "      <td>Old Adults</td>\n",
       "      <td>Upper Income</td>\n",
       "      <td>Parent</td>\n",
       "      <td>Married older parent</td>\n",
       "      <td>Upper income married older parent</td>\n",
       "      <td>Between 8am and 5pm</td>\n",
       "      <td>Sunday</td>\n",
       "    </tr>\n",
       "    <tr>\n",
       "      <th>14</th>\n",
       "      <td>Female</td>\n",
       "      <td>Missouri</td>\n",
       "      <td>48</td>\n",
       "      <td>3</td>\n",
       "      <td>married</td>\n",
       "      <td>165665</td>\n",
       "      <td>7</td>\n",
       "      <td>New customer</td>\n",
       "      <td>Low spender</td>\n",
       "      <td>Regular customer</td>\n",
       "      <td>...</td>\n",
       "      <td>Most orders</td>\n",
       "      <td>Midwest</td>\n",
       "      <td>produce</td>\n",
       "      <td>Old Adults</td>\n",
       "      <td>Upper Income</td>\n",
       "      <td>Parent</td>\n",
       "      <td>Married older parent</td>\n",
       "      <td>Upper income married older parent</td>\n",
       "      <td>Between 8am and 5pm</td>\n",
       "      <td>Thursday</td>\n",
       "    </tr>\n",
       "  </tbody>\n",
       "</table>\n",
       "<p>5 rows × 27 columns</p>\n",
       "</div>"
      ],
      "text/plain": [
       "    gender     state  age  number_of_dependents marital_status  income  \\\n",
       "1   Female  Missouri   48                     3        married  165665   \n",
       "7   Female  Missouri   48                     3        married  165665   \n",
       "9   Female  Missouri   48                     3        married  165665   \n",
       "13  Female  Missouri   48                     3        married  165665   \n",
       "14  Female  Missouri   48                     3        married  165665   \n",
       "\n",
       "    order_number  loyalty_flag spending_flag order_frequency_flag  ...  \\\n",
       "1              7  New customer   Low spender     Regular customer  ...   \n",
       "7              7  New customer   Low spender     Regular customer  ...   \n",
       "9              1  New customer   Low spender     Regular customer  ...   \n",
       "13             6  New customer   Low spender     Regular customer  ...   \n",
       "14             7  New customer   Low spender     Regular customer  ...   \n",
       "\n",
       "   busiest_period_of_day   region  department   age_group  income_group  \\\n",
       "1            Most orders  Midwest   beverages  Old Adults  Upper Income   \n",
       "7            Most orders  Midwest  dairy eggs  Old Adults  Upper Income   \n",
       "9            Most orders  Midwest     produce  Old Adults  Upper Income   \n",
       "13        Average orders  Midwest     produce  Old Adults  Upper Income   \n",
       "14           Most orders  Midwest     produce  Old Adults  Upper Income   \n",
       "\n",
       "   dependents_group      customer_profile            customer_income_profile  \\\n",
       "1            Parent  Married older parent  Upper income married older parent   \n",
       "7            Parent  Married older parent  Upper income married older parent   \n",
       "9            Parent  Married older parent  Upper income married older parent   \n",
       "13           Parent  Married older parent  Upper income married older parent   \n",
       "14           Parent  Married older parent  Upper income married older parent   \n",
       "\n",
       "            time_period       day  \n",
       "1   Between 8am and 5pm  Thursday  \n",
       "7   Between 8am and 5pm  Thursday  \n",
       "9   Between 8am and 5pm    Monday  \n",
       "13  Between 8am and 5pm    Sunday  \n",
       "14  Between 8am and 5pm  Thursday  \n",
       "\n",
       "[5 rows x 27 columns]"
      ]
     },
     "execution_count": 107,
     "metadata": {},
     "output_type": "execute_result"
    }
   ],
   "source": [
    "# Check output\n",
    "\n",
    "df_final_subset.head()"
   ]
  },
  {
   "cell_type": "markdown",
   "id": "098ac76d",
   "metadata": {},
   "source": [
    "## 10. Export data"
   ]
  },
  {
   "cell_type": "code",
   "execution_count": 108,
   "id": "45793fe3",
   "metadata": {},
   "outputs": [],
   "source": [
    "# Export dataframe to pkl\n",
    "\n",
    "df_final_subset.to_pickle(os.path.join(path, '02 Data','Prepared Data', 'final_subset_sample.pkl'))"
   ]
  },
  {
   "cell_type": "code",
   "execution_count": null,
   "id": "61abafb1",
   "metadata": {},
   "outputs": [],
   "source": []
  }
 ],
 "metadata": {
  "kernelspec": {
   "display_name": "Python 3 (ipykernel)",
   "language": "python",
   "name": "python3"
  },
  "language_info": {
   "codemirror_mode": {
    "name": "ipython",
    "version": 3
   },
   "file_extension": ".py",
   "mimetype": "text/x-python",
   "name": "python",
   "nbconvert_exporter": "python",
   "pygments_lexer": "ipython3",
   "version": "3.11.3"
  }
 },
 "nbformat": 4,
 "nbformat_minor": 5
}
