{
 "cells": [
  {
   "cell_type": "markdown",
   "id": "ce45cab7",
   "metadata": {},
   "source": [
    "#01. Importing libraries"
   ]
  },
  {
   "cell_type": "code",
   "execution_count": 1,
   "id": "09ee686d",
   "metadata": {},
   "outputs": [],
   "source": [
    "# Import libraries\n",
    "import pandas as pd\n",
    "import numpy as np\n",
    "import os"
   ]
  },
  {
   "cell_type": "markdown",
   "id": "f3a7bcc1",
   "metadata": {},
   "source": [
    "02. Data types"
   ]
  },
  {
   "cell_type": "code",
   "execution_count": 25,
   "id": "da2e9caf",
   "metadata": {},
   "outputs": [],
   "source": [
    "x = 25\n",
    "y = 50\n",
    "z = 75"
   ]
  },
  {
   "cell_type": "code",
   "execution_count": 26,
   "id": "bcef7ed3",
   "metadata": {},
   "outputs": [
    {
     "data": {
      "text/plain": [
       "100"
      ]
     },
     "execution_count": 26,
     "metadata": {},
     "output_type": "execute_result"
    }
   ],
   "source": [
    "y + y"
   ]
  },
  {
   "cell_type": "code",
   "execution_count": 27,
   "id": "0a7646d1",
   "metadata": {},
   "outputs": [
    {
     "data": {
      "text/plain": [
       "100"
      ]
     },
     "execution_count": 27,
     "metadata": {},
     "output_type": "execute_result"
    }
   ],
   "source": [
    "x + z"
   ]
  },
  {
   "cell_type": "code",
   "execution_count": 28,
   "id": "ef694d4d",
   "metadata": {},
   "outputs": [
    {
     "data": {
      "text/plain": [
       "100"
      ]
     },
     "execution_count": 28,
     "metadata": {},
     "output_type": "execute_result"
    }
   ],
   "source": [
    "y + z - x"
   ]
  },
  {
   "cell_type": "code",
   "execution_count": 29,
   "id": "76dfb4eb",
   "metadata": {},
   "outputs": [],
   "source": [
    "x = 9.758\n",
    "y = 2.504"
   ]
  },
  {
   "cell_type": "code",
   "execution_count": 30,
   "id": "dab26f38",
   "metadata": {},
   "outputs": [
    {
     "data": {
      "text/plain": [
       "3.8969648562300314"
      ]
     },
     "execution_count": 30,
     "metadata": {},
     "output_type": "execute_result"
    }
   ],
   "source": [
    "x / y"
   ]
  },
  {
   "cell_type": "code",
   "execution_count": 32,
   "id": "938f8ec3",
   "metadata": {},
   "outputs": [],
   "source": [
    "a = 'd'\n",
    "b = 'o'\n",
    "c = 'g'"
   ]
  },
  {
   "cell_type": "code",
   "execution_count": 33,
   "id": "b7119b0f",
   "metadata": {},
   "outputs": [
    {
     "data": {
      "text/plain": [
       "'dog'"
      ]
     },
     "execution_count": 33,
     "metadata": {},
     "output_type": "execute_result"
    }
   ],
   "source": [
    "a + b + c"
   ]
  },
  {
   "cell_type": "code",
   "execution_count": 34,
   "id": "cf3490b9",
   "metadata": {},
   "outputs": [],
   "source": [
    "a = 'Python '\n",
    "b = 'is '\n",
    "c = 'cool!'"
   ]
  },
  {
   "cell_type": "code",
   "execution_count": 35,
   "id": "fc8485e3",
   "metadata": {},
   "outputs": [
    {
     "data": {
      "text/plain": [
       "'Python is cool!'"
      ]
     },
     "execution_count": 35,
     "metadata": {},
     "output_type": "execute_result"
    }
   ],
   "source": [
    "a + b + c"
   ]
  },
  {
   "cell_type": "code",
   "execution_count": 36,
   "id": "43cd287f",
   "metadata": {},
   "outputs": [],
   "source": [
    "a = 'This '\n",
    "b = 'is '\n",
    "c = 'awesome!'"
   ]
  },
  {
   "cell_type": "code",
   "execution_count": 37,
   "id": "28307032",
   "metadata": {},
   "outputs": [
    {
     "data": {
      "text/plain": [
       "'This is awesome!'"
      ]
     },
     "execution_count": 37,
     "metadata": {},
     "output_type": "execute_result"
    }
   ],
   "source": [
    "a + b + c"
   ]
  },
  {
   "cell_type": "code",
   "execution_count": 38,
   "id": "9cf44f0a",
   "metadata": {},
   "outputs": [],
   "source": [
    "a = 'ha '"
   ]
  },
  {
   "cell_type": "code",
   "execution_count": 39,
   "id": "d4936762",
   "metadata": {},
   "outputs": [
    {
     "data": {
      "text/plain": [
       "'ha ha ha ha ha ha ha ha ha ha ha ha ha ha ha ha ha ha ha ha ha ha ha ha ha ha ha ha ha ha ha ha ha ha ha ha ha ha ha ha ha ha ha ha ha ha ha ha ha ha ha ha ha ha ha ha ha ha ha ha ha ha ha ha ha ha ha ha ha ha ha ha ha ha ha ha ha ha ha ha ha ha ha ha ha ha ha ha ha ha ha ha ha ha ha ha ha ha ha ha '"
      ]
     },
     "execution_count": 39,
     "metadata": {},
     "output_type": "execute_result"
    }
   ],
   "source": [
    "a * 100"
   ]
  },
  {
   "cell_type": "code",
   "execution_count": null,
   "id": "344b04ce",
   "metadata": {},
   "outputs": [],
   "source": []
  }
 ],
 "metadata": {
  "kernelspec": {
   "display_name": "Python 3 (ipykernel)",
   "language": "python",
   "name": "python3"
  },
  "language_info": {
   "codemirror_mode": {
    "name": "ipython",
    "version": 3
   },
   "file_extension": ".py",
   "mimetype": "text/x-python",
   "name": "python",
   "nbconvert_exporter": "python",
   "pygments_lexer": "ipython3",
   "version": "3.11.3"
  }
 },
 "nbformat": 4,
 "nbformat_minor": 5
}
